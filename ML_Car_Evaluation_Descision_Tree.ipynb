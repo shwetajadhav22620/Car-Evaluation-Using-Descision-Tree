{
  "nbformat": 4,
  "nbformat_minor": 0,
  "metadata": {
    "colab": {
      "name": "ML Car Evaluation Descision Tree.ipynb",
      "provenance": [],
      "collapsed_sections": []
    },
    "kernelspec": {
      "name": "python3",
      "display_name": "Python 3"
    },
    "language_info": {
      "name": "python"
    }
  },
  "cells": [
    {
      "cell_type": "markdown",
      "metadata": {
        "id": "-x3OHJ0YqWtI"
      },
      "source": [
        "# **Car Evaluation Descision Tree Algorithm**"
      ]
    },
    {
      "cell_type": "markdown",
      "metadata": {
        "id": "wPr4V_luqgSu"
      },
      "source": [
        "Car Evaluation Database was derived from a simple hierarchical decision model originally developed for the demonstration of DEX, M. Bohanec, V. Rajkovic: Expert system for decision making. Sistemica 1(1), pp. 145-157, 1990.). The model evaluates cars according to the following concept structure:\n",
        "\n",
        "1. **buying value:-** buying price\n",
        "\n",
        "2. **Maintenance:-** price of the maintenance\n",
        "\n",
        "3. **No of doors:-** number of doors\n",
        "\n",
        "4. **persons:-** capacity in terms of persons to carry\n",
        "\n",
        "5. **lug_space:-** the size of luggage boot\n",
        "\n",
        "6. **safety:-** estimated safety of the car\n",
        "\n",
        "Input attributes are printed in lowercase. Besides the target concept (CAR), the model includes three intermediate concepts: PRICE, TECH, COMFORT. Every concept is in the original model related to its lower level descendants by a set of examples (for these examples sets see [Web Link]).\n",
        "\n",
        "The Car Evaluation Database contains examples with the structural information removed, i.e., directly relates CAR to the six input attributes: buying, maint, doors, persons, lug_boot, safety.\n",
        "\n",
        "Because of known underlying concept structure, this database may be particularly useful for testing constructive induction and structure discovery methods.\n",
        "\n",
        "###**Attribute Information:**\n",
        "\n",
        "**Class Values:**\n",
        "\n",
        "unacc, acc, good, vgood\n",
        "\n",
        "**Attributes:**\n",
        "\n",
        "Car Evaluation Database was derived from a simple hierarchical decision model originally developed for the demonstration of DEX, M. Bohanec, V. Rajkovic: Expert system for decision making. Sistemica 1(1), pp. 145-157, 1990.). The model evaluates cars according to the following concept structure:\n",
        "\n",
        "\n",
        "\n",
        "\n",
        "*  **buying value:**  vhigh, high, med, low.\n",
        "*  **Maintainance:**  vhigh, high, med, low.\n",
        "*  **No of doors:** 2, 3, 4, 5more.\n",
        "*  **persons:** 2, 4, more.\n",
        "*  **lug space:**  small, med, big.\n",
        "*  **safety:** low, med, high."
      ]
    },
    {
      "cell_type": "code",
      "metadata": {
        "id": "Ff07mO6hzgLC"
      },
      "source": [
        "import numpy as np # linear algebra\n",
        "import pandas as pd # data processing, CSV file I/O (e.g. pd.read_csv)\n",
        "import matplotlib.pyplot as plt # data visualization\n",
        "import seaborn as sns # statistical data visualization\n",
        "%matplotlib inline"
      ],
      "execution_count": 2,
      "outputs": []
    },
    {
      "cell_type": "markdown",
      "metadata": {
        "id": "4LH-wegArLiP"
      },
      "source": [
        "### **Step 1: Reading and Understanding the Data**\n",
        "\n",
        "Let's start with the following steps:\n",
        "\n",
        "1.Importing data using the pandas library\n",
        "\n",
        "2.Understanding the structure of the data\n"
      ]
    },
    {
      "cell_type": "code",
      "metadata": {
        "id": "QYN5vXiH0ifK"
      },
      "source": [
        "data =pd.read_excel(r'/content/Car Evaluation.xlsx')"
      ],
      "execution_count": 3,
      "outputs": []
    },
    {
      "cell_type": "code",
      "metadata": {
        "colab": {
          "base_uri": "https://localhost:8080/"
        },
        "id": "xCV_SeIdrd_R",
        "outputId": "c3c9eadf-5b34-4374-bd99-45f4c3ac4787"
      },
      "source": [
        "# view dimensions of dataset\n",
        "data.shape"
      ],
      "execution_count": 4,
      "outputs": [
        {
          "output_type": "execute_result",
          "data": {
            "text/plain": [
              "(1728, 7)"
            ]
          },
          "metadata": {},
          "execution_count": 4
        }
      ]
    },
    {
      "cell_type": "markdown",
      "metadata": {
        "id": "q8qaoWGxrt4B"
      },
      "source": [
        "We can see that there are 1728 instances and 7 variables in the data set."
      ]
    },
    {
      "cell_type": "markdown",
      "metadata": {
        "id": "w4HRFYYQsDQg"
      },
      "source": [
        "**View top 5 rows of dataset**"
      ]
    },
    {
      "cell_type": "code",
      "metadata": {
        "colab": {
          "base_uri": "https://localhost:8080/",
          "height": 202
        },
        "id": "sYKvfhu7r2ft",
        "outputId": "2ff30d94-dc5a-480e-9bd7-560dd902efcc"
      },
      "source": [
        "# Preview of the dataset\n",
        "data.head()"
      ],
      "execution_count": 5,
      "outputs": [
        {
          "output_type": "execute_result",
          "data": {
            "text/html": [
              "<div>\n",
              "<style scoped>\n",
              "    .dataframe tbody tr th:only-of-type {\n",
              "        vertical-align: middle;\n",
              "    }\n",
              "\n",
              "    .dataframe tbody tr th {\n",
              "        vertical-align: top;\n",
              "    }\n",
              "\n",
              "    .dataframe thead th {\n",
              "        text-align: right;\n",
              "    }\n",
              "</style>\n",
              "<table border=\"1\" class=\"dataframe\">\n",
              "  <thead>\n",
              "    <tr style=\"text-align: right;\">\n",
              "      <th></th>\n",
              "      <th>buying value</th>\n",
              "      <th>Maintainance</th>\n",
              "      <th>No of doors</th>\n",
              "      <th>persons</th>\n",
              "      <th>lug space</th>\n",
              "      <th>safety</th>\n",
              "      <th>class</th>\n",
              "    </tr>\n",
              "  </thead>\n",
              "  <tbody>\n",
              "    <tr>\n",
              "      <th>0</th>\n",
              "      <td>vhigh</td>\n",
              "      <td>vhigh</td>\n",
              "      <td>2</td>\n",
              "      <td>2</td>\n",
              "      <td>small</td>\n",
              "      <td>low</td>\n",
              "      <td>unacc</td>\n",
              "    </tr>\n",
              "    <tr>\n",
              "      <th>1</th>\n",
              "      <td>vhigh</td>\n",
              "      <td>vhigh</td>\n",
              "      <td>2</td>\n",
              "      <td>2</td>\n",
              "      <td>small</td>\n",
              "      <td>med</td>\n",
              "      <td>unacc</td>\n",
              "    </tr>\n",
              "    <tr>\n",
              "      <th>2</th>\n",
              "      <td>vhigh</td>\n",
              "      <td>vhigh</td>\n",
              "      <td>2</td>\n",
              "      <td>2</td>\n",
              "      <td>small</td>\n",
              "      <td>high</td>\n",
              "      <td>unacc</td>\n",
              "    </tr>\n",
              "    <tr>\n",
              "      <th>3</th>\n",
              "      <td>vhigh</td>\n",
              "      <td>vhigh</td>\n",
              "      <td>2</td>\n",
              "      <td>2</td>\n",
              "      <td>med</td>\n",
              "      <td>low</td>\n",
              "      <td>unacc</td>\n",
              "    </tr>\n",
              "    <tr>\n",
              "      <th>4</th>\n",
              "      <td>vhigh</td>\n",
              "      <td>vhigh</td>\n",
              "      <td>2</td>\n",
              "      <td>2</td>\n",
              "      <td>med</td>\n",
              "      <td>med</td>\n",
              "      <td>unacc</td>\n",
              "    </tr>\n",
              "  </tbody>\n",
              "</table>\n",
              "</div>"
            ],
            "text/plain": [
              "  buying value Maintainance  No of doors  persons lug space safety  class\n",
              "0        vhigh        vhigh            2        2     small    low  unacc\n",
              "1        vhigh        vhigh            2        2     small    med  unacc\n",
              "2        vhigh        vhigh            2        2     small   high  unacc\n",
              "3        vhigh        vhigh            2        2       med    low  unacc\n",
              "4        vhigh        vhigh            2        2       med    med  unacc"
            ]
          },
          "metadata": {},
          "execution_count": 5
        }
      ]
    },
    {
      "cell_type": "markdown",
      "metadata": {
        "id": "zQcrdEIIsTjl"
      },
      "source": [
        "**View summary of dataset**"
      ]
    },
    {
      "cell_type": "code",
      "metadata": {
        "colab": {
          "base_uri": "https://localhost:8080/"
        },
        "id": "eJYLRIayrWkU",
        "outputId": "21f502c9-2ec6-46f9-b122-4ecd51632686"
      },
      "source": [
        "data.info"
      ],
      "execution_count": 6,
      "outputs": [
        {
          "output_type": "execute_result",
          "data": {
            "text/plain": [
              "<bound method DataFrame.info of      buying value Maintainance  No of doors  persons lug space safety  class\n",
              "0           vhigh        vhigh            2        2     small    low  unacc\n",
              "1           vhigh        vhigh            2        2     small    med  unacc\n",
              "2           vhigh        vhigh            2        2     small   high  unacc\n",
              "3           vhigh        vhigh            2        2       med    low  unacc\n",
              "4           vhigh        vhigh            2        2       med    med  unacc\n",
              "...           ...          ...          ...      ...       ...    ...    ...\n",
              "1723          low          low            5        8       med    med   good\n",
              "1724          low          low            5        8       med   high  vgood\n",
              "1725          low          low            5        8       big    low  unacc\n",
              "1726          low          low            5        8       big    med   good\n",
              "1727          low          low            5        8       big   high  vgood\n",
              "\n",
              "[1728 rows x 7 columns]>"
            ]
          },
          "metadata": {},
          "execution_count": 6
        }
      ]
    },
    {
      "cell_type": "code",
      "metadata": {
        "colab": {
          "base_uri": "https://localhost:8080/",
          "height": 294
        },
        "id": "vFk_0eUZrXvH",
        "outputId": "8b3c0c9b-8100-4ae5-d013-538d6e2d7fac"
      },
      "source": [
        "data.describe()"
      ],
      "execution_count": 7,
      "outputs": [
        {
          "output_type": "execute_result",
          "data": {
            "text/html": [
              "<div>\n",
              "<style scoped>\n",
              "    .dataframe tbody tr th:only-of-type {\n",
              "        vertical-align: middle;\n",
              "    }\n",
              "\n",
              "    .dataframe tbody tr th {\n",
              "        vertical-align: top;\n",
              "    }\n",
              "\n",
              "    .dataframe thead th {\n",
              "        text-align: right;\n",
              "    }\n",
              "</style>\n",
              "<table border=\"1\" class=\"dataframe\">\n",
              "  <thead>\n",
              "    <tr style=\"text-align: right;\">\n",
              "      <th></th>\n",
              "      <th>No of doors</th>\n",
              "      <th>persons</th>\n",
              "    </tr>\n",
              "  </thead>\n",
              "  <tbody>\n",
              "    <tr>\n",
              "      <th>count</th>\n",
              "      <td>1728.000000</td>\n",
              "      <td>1728.000000</td>\n",
              "    </tr>\n",
              "    <tr>\n",
              "      <th>mean</th>\n",
              "      <td>3.500000</td>\n",
              "      <td>4.666667</td>\n",
              "    </tr>\n",
              "    <tr>\n",
              "      <th>std</th>\n",
              "      <td>1.118358</td>\n",
              "      <td>2.495160</td>\n",
              "    </tr>\n",
              "    <tr>\n",
              "      <th>min</th>\n",
              "      <td>2.000000</td>\n",
              "      <td>2.000000</td>\n",
              "    </tr>\n",
              "    <tr>\n",
              "      <th>25%</th>\n",
              "      <td>2.750000</td>\n",
              "      <td>2.000000</td>\n",
              "    </tr>\n",
              "    <tr>\n",
              "      <th>50%</th>\n",
              "      <td>3.500000</td>\n",
              "      <td>4.000000</td>\n",
              "    </tr>\n",
              "    <tr>\n",
              "      <th>75%</th>\n",
              "      <td>4.250000</td>\n",
              "      <td>8.000000</td>\n",
              "    </tr>\n",
              "    <tr>\n",
              "      <th>max</th>\n",
              "      <td>5.000000</td>\n",
              "      <td>8.000000</td>\n",
              "    </tr>\n",
              "  </tbody>\n",
              "</table>\n",
              "</div>"
            ],
            "text/plain": [
              "       No of doors      persons\n",
              "count  1728.000000  1728.000000\n",
              "mean      3.500000     4.666667\n",
              "std       1.118358     2.495160\n",
              "min       2.000000     2.000000\n",
              "25%       2.750000     2.000000\n",
              "50%       3.500000     4.000000\n",
              "75%       4.250000     8.000000\n",
              "max       5.000000     8.000000"
            ]
          },
          "metadata": {},
          "execution_count": 7
        }
      ]
    },
    {
      "cell_type": "code",
      "metadata": {
        "colab": {
          "base_uri": "https://localhost:8080/"
        },
        "id": "dYK5tbAfSCxG",
        "outputId": "e8a3376b-288e-4967-cfe6-00c8a758b1b7"
      },
      "source": [
        "data.dtypes"
      ],
      "execution_count": 68,
      "outputs": [
        {
          "output_type": "execute_result",
          "data": {
            "text/plain": [
              "buying value    object\n",
              "Maintainance    object\n",
              "No of doors      int64\n",
              "persons          int64\n",
              "lug space       object\n",
              "safety          object\n",
              "class           object\n",
              "dtype: object"
            ]
          },
          "metadata": {},
          "execution_count": 68
        }
      ]
    },
    {
      "cell_type": "markdown",
      "metadata": {
        "id": "tUOv__v2sbpC"
      },
      "source": [
        "**Frequency distribution of values in variables**\n",
        "\n",
        "Now, I will check the frequency counts of categorical variables."
      ]
    },
    {
      "cell_type": "code",
      "metadata": {
        "colab": {
          "base_uri": "https://localhost:8080/"
        },
        "id": "HwS8La7mrZ7g",
        "outputId": "4c4f6d05-c9c5-4a2e-f935-2815dfd30c68"
      },
      "source": [
        "for col in data.columns:\n",
        "    print(data[col].value_counts())  "
      ],
      "execution_count": 8,
      "outputs": [
        {
          "output_type": "stream",
          "name": "stdout",
          "text": [
            "med      432\n",
            "low      432\n",
            "vhigh    432\n",
            "high     432\n",
            "Name: buying value, dtype: int64\n",
            "med      432\n",
            "low      432\n",
            "vhigh    432\n",
            "high     432\n",
            "Name: Maintainance, dtype: int64\n",
            "5    432\n",
            "4    432\n",
            "3    432\n",
            "2    432\n",
            "Name: No of doors, dtype: int64\n",
            "8    576\n",
            "4    576\n",
            "2    576\n",
            "Name: persons, dtype: int64\n",
            "small    576\n",
            "med      576\n",
            "big      576\n",
            "Name: lug space, dtype: int64\n",
            "med     576\n",
            "low     576\n",
            "high    576\n",
            "Name: safety, dtype: int64\n",
            "unacc    1210\n",
            "acc       384\n",
            "good       69\n",
            "vgood      65\n",
            "Name: class, dtype: int64\n"
          ]
        }
      ]
    },
    {
      "cell_type": "markdown",
      "metadata": {
        "id": "K8gamXWvsoLs"
      },
      "source": [
        "We can see that the doors and persons are not categorical in nature. So, I will  not treat them as categorical variables.\n",
        "\n",
        "**Summary of variables**\n",
        "\n",
        "There are 7 variables in the dataset. \n",
        "\n",
        "*  All the variables are not of categorical data type.\n",
        "* Categorical columns are given by buying, maintenance, lug_space, safety and class.\n",
        "*  class is the target variable."
      ]
    },
    {
      "cell_type": "markdown",
      "metadata": {
        "id": "woUuZYDls9uT"
      },
      "source": [
        "### **Explore class variable**"
      ]
    },
    {
      "cell_type": "code",
      "metadata": {
        "colab": {
          "base_uri": "https://localhost:8080/"
        },
        "id": "761oldkKtI8p",
        "outputId": "cb8457b0-ccf8-4265-8c1f-3e8bd674dfca"
      },
      "source": [
        "data['class'].value_counts()"
      ],
      "execution_count": 9,
      "outputs": [
        {
          "output_type": "execute_result",
          "data": {
            "text/plain": [
              "unacc    1210\n",
              "acc       384\n",
              "good       69\n",
              "vgood      65\n",
              "Name: class, dtype: int64"
            ]
          },
          "metadata": {},
          "execution_count": 9
        }
      ]
    },
    {
      "cell_type": "markdown",
      "metadata": {
        "id": "enwBWtxrtLsl"
      },
      "source": [
        "The class target variable is ordinal in nature."
      ]
    },
    {
      "cell_type": "markdown",
      "metadata": {
        "id": "6dFcUJxQtRvj"
      },
      "source": [
        "### **Missing values in variables**"
      ]
    },
    {
      "cell_type": "code",
      "metadata": {
        "colab": {
          "base_uri": "https://localhost:8080/"
        },
        "id": "hlmPJ-rdtNnv",
        "outputId": "d4152efe-6a37-4f91-cc60-e7f05ee92ee3"
      },
      "source": [
        "# check missing values in variables\n",
        "\n",
        "data.isnull().sum()"
      ],
      "execution_count": 10,
      "outputs": [
        {
          "output_type": "execute_result",
          "data": {
            "text/plain": [
              "buying value    0\n",
              "Maintainance    0\n",
              "No of doors     0\n",
              "persons         0\n",
              "lug space       0\n",
              "safety          0\n",
              "class           0\n",
              "dtype: int64"
            ]
          },
          "metadata": {},
          "execution_count": 10
        }
      ]
    },
    {
      "cell_type": "markdown",
      "metadata": {
        "id": "lXaZNwfRteTt"
      },
      "source": [
        "We can see that there are no missing values in the dataset. I have checked the frequency distribution of values previously. It also confirms that there are no missing values in the dataset."
      ]
    },
    {
      "cell_type": "markdown",
      "metadata": {
        "id": "Dv0H-TWutgDI"
      },
      "source": [
        "### **Declare feature vector and target variable**"
      ]
    },
    {
      "cell_type": "code",
      "metadata": {
        "id": "AdcPbCsrttn8"
      },
      "source": [
        "X = data.drop(['class'], axis=1)\n",
        "\n",
        "y = data['class']"
      ],
      "execution_count": 11,
      "outputs": []
    },
    {
      "cell_type": "markdown",
      "metadata": {
        "id": "Pb5XwRpTtz0h"
      },
      "source": [
        "### **Split data into separate training and test set**"
      ]
    },
    {
      "cell_type": "code",
      "metadata": {
        "id": "mxg1YrkXt2Ew"
      },
      "source": [
        "# split X and y into training and testing sets\n",
        "\n",
        "from sklearn.model_selection import train_test_split\n",
        "\n",
        "X_train, X_test, y_train, y_test = train_test_split(X, y, test_size = 0.33, random_state = 42)"
      ],
      "execution_count": 12,
      "outputs": []
    },
    {
      "cell_type": "code",
      "metadata": {
        "colab": {
          "base_uri": "https://localhost:8080/"
        },
        "id": "m6YxhZRot7TK",
        "outputId": "71eb333f-f7c2-48fc-f825-3f4972e30bd9"
      },
      "source": [
        "# check the shape of X_train and X_test\n",
        "\n",
        "X_train.shape, X_test.shape"
      ],
      "execution_count": 13,
      "outputs": [
        {
          "output_type": "execute_result",
          "data": {
            "text/plain": [
              "((1157, 6), (571, 6))"
            ]
          },
          "metadata": {},
          "execution_count": 13
        }
      ]
    },
    {
      "cell_type": "markdown",
      "metadata": {
        "id": "V9RrDgNZuAAb"
      },
      "source": [
        "## **Feature Engineering**"
      ]
    },
    {
      "cell_type": "markdown",
      "metadata": {
        "id": "k9fNNSazuYRQ"
      },
      "source": [
        "Feature Engineering is the process of transforming raw data into useful features that help us to understand our model better and increase its predictive power. I will carry out feature engineering on different types of variables.\n",
        "\n",
        "First, I will check the data types of variables again."
      ]
    },
    {
      "cell_type": "code",
      "metadata": {
        "colab": {
          "base_uri": "https://localhost:8080/"
        },
        "id": "jGcO-ucVuXnE",
        "outputId": "3c291e5f-1879-4eec-ec66-fa973b9724ef"
      },
      "source": [
        "# check data types in X_train\n",
        "\n",
        "X_train.dtypes"
      ],
      "execution_count": 14,
      "outputs": [
        {
          "output_type": "execute_result",
          "data": {
            "text/plain": [
              "buying value    object\n",
              "Maintainance    object\n",
              "No of doors      int64\n",
              "persons          int64\n",
              "lug space       object\n",
              "safety          object\n",
              "dtype: object"
            ]
          },
          "metadata": {},
          "execution_count": 14
        }
      ]
    },
    {
      "cell_type": "markdown",
      "metadata": {
        "id": "6FaeKnyTummp"
      },
      "source": [
        "Encode categorical variables\n",
        "\n",
        "Now, I will encode the categorical variables."
      ]
    },
    {
      "cell_type": "code",
      "metadata": {
        "colab": {
          "base_uri": "https://localhost:8080/",
          "height": 202
        },
        "id": "a0nktmVwutX6",
        "outputId": "9b41d8bf-4d19-4be4-9567-1dfd858ee6ca"
      },
      "source": [
        "X_train.head()"
      ],
      "execution_count": 15,
      "outputs": [
        {
          "output_type": "execute_result",
          "data": {
            "text/html": [
              "<div>\n",
              "<style scoped>\n",
              "    .dataframe tbody tr th:only-of-type {\n",
              "        vertical-align: middle;\n",
              "    }\n",
              "\n",
              "    .dataframe tbody tr th {\n",
              "        vertical-align: top;\n",
              "    }\n",
              "\n",
              "    .dataframe thead th {\n",
              "        text-align: right;\n",
              "    }\n",
              "</style>\n",
              "<table border=\"1\" class=\"dataframe\">\n",
              "  <thead>\n",
              "    <tr style=\"text-align: right;\">\n",
              "      <th></th>\n",
              "      <th>buying value</th>\n",
              "      <th>Maintainance</th>\n",
              "      <th>No of doors</th>\n",
              "      <th>persons</th>\n",
              "      <th>lug space</th>\n",
              "      <th>safety</th>\n",
              "    </tr>\n",
              "  </thead>\n",
              "  <tbody>\n",
              "    <tr>\n",
              "      <th>48</th>\n",
              "      <td>vhigh</td>\n",
              "      <td>vhigh</td>\n",
              "      <td>3</td>\n",
              "      <td>8</td>\n",
              "      <td>med</td>\n",
              "      <td>low</td>\n",
              "    </tr>\n",
              "    <tr>\n",
              "      <th>468</th>\n",
              "      <td>high</td>\n",
              "      <td>vhigh</td>\n",
              "      <td>3</td>\n",
              "      <td>4</td>\n",
              "      <td>small</td>\n",
              "      <td>low</td>\n",
              "    </tr>\n",
              "    <tr>\n",
              "      <th>155</th>\n",
              "      <td>vhigh</td>\n",
              "      <td>high</td>\n",
              "      <td>3</td>\n",
              "      <td>8</td>\n",
              "      <td>small</td>\n",
              "      <td>high</td>\n",
              "    </tr>\n",
              "    <tr>\n",
              "      <th>1721</th>\n",
              "      <td>low</td>\n",
              "      <td>low</td>\n",
              "      <td>5</td>\n",
              "      <td>8</td>\n",
              "      <td>small</td>\n",
              "      <td>high</td>\n",
              "    </tr>\n",
              "    <tr>\n",
              "      <th>1208</th>\n",
              "      <td>med</td>\n",
              "      <td>low</td>\n",
              "      <td>2</td>\n",
              "      <td>8</td>\n",
              "      <td>small</td>\n",
              "      <td>high</td>\n",
              "    </tr>\n",
              "  </tbody>\n",
              "</table>\n",
              "</div>"
            ],
            "text/plain": [
              "     buying value Maintainance  No of doors  persons lug space safety\n",
              "48          vhigh        vhigh            3        8       med    low\n",
              "468          high        vhigh            3        4     small    low\n",
              "155         vhigh         high            3        8     small   high\n",
              "1721          low          low            5        8     small   high\n",
              "1208          med          low            2        8     small   high"
            ]
          },
          "metadata": {},
          "execution_count": 15
        }
      ]
    },
    {
      "cell_type": "markdown",
      "metadata": {
        "id": "gOSSEb1ZusTZ"
      },
      "source": [
        "We can see that all the variables are ordinal categorical data type."
      ]
    },
    {
      "cell_type": "code",
      "metadata": {
        "colab": {
          "base_uri": "https://localhost:8080/"
        },
        "id": "rWsj7b6zu25y",
        "outputId": "1d45f26d-83d3-4712-dbca-d726cf36318a"
      },
      "source": [
        "# import category encoders\n",
        "! pip install category_encoders\n",
        "import category_encoders as ce"
      ],
      "execution_count": 16,
      "outputs": [
        {
          "output_type": "stream",
          "name": "stdout",
          "text": [
            "Collecting category_encoders\n",
            "  Downloading category_encoders-2.2.2-py2.py3-none-any.whl (80 kB)\n",
            "\u001b[?25l\r\u001b[K     |████                            | 10 kB 21.1 MB/s eta 0:00:01\r\u001b[K     |████████▏                       | 20 kB 28.6 MB/s eta 0:00:01\r\u001b[K     |████████████▏                   | 30 kB 20.1 MB/s eta 0:00:01\r\u001b[K     |████████████████▎               | 40 kB 16.3 MB/s eta 0:00:01\r\u001b[K     |████████████████████▎           | 51 kB 5.4 MB/s eta 0:00:01\r\u001b[K     |████████████████████████▍       | 61 kB 6.0 MB/s eta 0:00:01\r\u001b[K     |████████████████████████████▍   | 71 kB 5.4 MB/s eta 0:00:01\r\u001b[K     |████████████████████████████████| 80 kB 3.4 MB/s \n",
            "\u001b[?25hRequirement already satisfied: statsmodels>=0.9.0 in /usr/local/lib/python3.7/dist-packages (from category_encoders) (0.10.2)\n",
            "Requirement already satisfied: numpy>=1.14.0 in /usr/local/lib/python3.7/dist-packages (from category_encoders) (1.19.5)\n",
            "Requirement already satisfied: scipy>=1.0.0 in /usr/local/lib/python3.7/dist-packages (from category_encoders) (1.4.1)\n",
            "Requirement already satisfied: pandas>=0.21.1 in /usr/local/lib/python3.7/dist-packages (from category_encoders) (1.1.5)\n",
            "Requirement already satisfied: scikit-learn>=0.20.0 in /usr/local/lib/python3.7/dist-packages (from category_encoders) (0.22.2.post1)\n",
            "Requirement already satisfied: patsy>=0.5.1 in /usr/local/lib/python3.7/dist-packages (from category_encoders) (0.5.1)\n",
            "Requirement already satisfied: pytz>=2017.2 in /usr/local/lib/python3.7/dist-packages (from pandas>=0.21.1->category_encoders) (2018.9)\n",
            "Requirement already satisfied: python-dateutil>=2.7.3 in /usr/local/lib/python3.7/dist-packages (from pandas>=0.21.1->category_encoders) (2.8.2)\n",
            "Requirement already satisfied: six in /usr/local/lib/python3.7/dist-packages (from patsy>=0.5.1->category_encoders) (1.15.0)\n",
            "Requirement already satisfied: joblib>=0.11 in /usr/local/lib/python3.7/dist-packages (from scikit-learn>=0.20.0->category_encoders) (1.0.1)\n",
            "Installing collected packages: category-encoders\n",
            "Successfully installed category-encoders-2.2.2\n"
          ]
        },
        {
          "output_type": "stream",
          "name": "stderr",
          "text": [
            "/usr/local/lib/python3.7/dist-packages/statsmodels/tools/_testing.py:19: FutureWarning: pandas.util.testing is deprecated. Use the functions in the public API at pandas.testing instead.\n",
            "  import pandas.util.testing as tm\n"
          ]
        }
      ]
    },
    {
      "cell_type": "code",
      "metadata": {
        "colab": {
          "base_uri": "https://localhost:8080/"
        },
        "id": "cUGJk4Vju8b-",
        "outputId": "09c7cf77-c4ea-4bcd-a919-f73c90b2977b"
      },
      "source": [
        "# encode variables with ordinal encoding\n",
        "\n",
        "encoder = ce.OrdinalEncoder(cols=['buying value', 'Maintainance', 'No of doors', 'persons', 'lug space', 'safety'])\n",
        "\n",
        "\n",
        "X_train = encoder.fit_transform(X_train)\n",
        "\n",
        "X_test = encoder.transform(X_test)"
      ],
      "execution_count": 17,
      "outputs": [
        {
          "output_type": "stream",
          "name": "stderr",
          "text": [
            "/usr/local/lib/python3.7/dist-packages/category_encoders/utils.py:21: FutureWarning: is_categorical is deprecated and will be removed in a future version.  Use is_categorical_dtype instead\n",
            "  elif pd.api.types.is_categorical(cols):\n"
          ]
        }
      ]
    },
    {
      "cell_type": "code",
      "metadata": {
        "colab": {
          "base_uri": "https://localhost:8080/",
          "height": 202
        },
        "id": "f9YSNUfku9Qb",
        "outputId": "e74792a2-baa9-47ee-eb13-4dea6e228360"
      },
      "source": [
        "X_train.head()"
      ],
      "execution_count": 18,
      "outputs": [
        {
          "output_type": "execute_result",
          "data": {
            "text/html": [
              "<div>\n",
              "<style scoped>\n",
              "    .dataframe tbody tr th:only-of-type {\n",
              "        vertical-align: middle;\n",
              "    }\n",
              "\n",
              "    .dataframe tbody tr th {\n",
              "        vertical-align: top;\n",
              "    }\n",
              "\n",
              "    .dataframe thead th {\n",
              "        text-align: right;\n",
              "    }\n",
              "</style>\n",
              "<table border=\"1\" class=\"dataframe\">\n",
              "  <thead>\n",
              "    <tr style=\"text-align: right;\">\n",
              "      <th></th>\n",
              "      <th>buying value</th>\n",
              "      <th>Maintainance</th>\n",
              "      <th>No of doors</th>\n",
              "      <th>persons</th>\n",
              "      <th>lug space</th>\n",
              "      <th>safety</th>\n",
              "    </tr>\n",
              "  </thead>\n",
              "  <tbody>\n",
              "    <tr>\n",
              "      <th>48</th>\n",
              "      <td>1</td>\n",
              "      <td>1</td>\n",
              "      <td>1</td>\n",
              "      <td>1</td>\n",
              "      <td>1</td>\n",
              "      <td>1</td>\n",
              "    </tr>\n",
              "    <tr>\n",
              "      <th>468</th>\n",
              "      <td>2</td>\n",
              "      <td>1</td>\n",
              "      <td>1</td>\n",
              "      <td>2</td>\n",
              "      <td>2</td>\n",
              "      <td>1</td>\n",
              "    </tr>\n",
              "    <tr>\n",
              "      <th>155</th>\n",
              "      <td>1</td>\n",
              "      <td>2</td>\n",
              "      <td>1</td>\n",
              "      <td>1</td>\n",
              "      <td>2</td>\n",
              "      <td>2</td>\n",
              "    </tr>\n",
              "    <tr>\n",
              "      <th>1721</th>\n",
              "      <td>3</td>\n",
              "      <td>3</td>\n",
              "      <td>2</td>\n",
              "      <td>1</td>\n",
              "      <td>2</td>\n",
              "      <td>2</td>\n",
              "    </tr>\n",
              "    <tr>\n",
              "      <th>1208</th>\n",
              "      <td>4</td>\n",
              "      <td>3</td>\n",
              "      <td>3</td>\n",
              "      <td>1</td>\n",
              "      <td>2</td>\n",
              "      <td>2</td>\n",
              "    </tr>\n",
              "  </tbody>\n",
              "</table>\n",
              "</div>"
            ],
            "text/plain": [
              "      buying value  Maintainance  No of doors  persons  lug space  safety\n",
              "48               1             1            1        1          1       1\n",
              "468              2             1            1        2          2       1\n",
              "155              1             2            1        1          2       2\n",
              "1721             3             3            2        1          2       2\n",
              "1208             4             3            3        1          2       2"
            ]
          },
          "metadata": {},
          "execution_count": 18
        }
      ]
    },
    {
      "cell_type": "code",
      "metadata": {
        "colab": {
          "base_uri": "https://localhost:8080/",
          "height": 202
        },
        "id": "CLylcQBivCj2",
        "outputId": "34d97846-2282-42c6-df7b-c8ab330bc8b1"
      },
      "source": [
        "X_test.head()"
      ],
      "execution_count": 19,
      "outputs": [
        {
          "output_type": "execute_result",
          "data": {
            "text/html": [
              "<div>\n",
              "<style scoped>\n",
              "    .dataframe tbody tr th:only-of-type {\n",
              "        vertical-align: middle;\n",
              "    }\n",
              "\n",
              "    .dataframe tbody tr th {\n",
              "        vertical-align: top;\n",
              "    }\n",
              "\n",
              "    .dataframe thead th {\n",
              "        text-align: right;\n",
              "    }\n",
              "</style>\n",
              "<table border=\"1\" class=\"dataframe\">\n",
              "  <thead>\n",
              "    <tr style=\"text-align: right;\">\n",
              "      <th></th>\n",
              "      <th>buying value</th>\n",
              "      <th>Maintainance</th>\n",
              "      <th>No of doors</th>\n",
              "      <th>persons</th>\n",
              "      <th>lug space</th>\n",
              "      <th>safety</th>\n",
              "    </tr>\n",
              "  </thead>\n",
              "  <tbody>\n",
              "    <tr>\n",
              "      <th>599</th>\n",
              "      <td>2</td>\n",
              "      <td>2</td>\n",
              "      <td>4</td>\n",
              "      <td>3</td>\n",
              "      <td>1</td>\n",
              "      <td>2</td>\n",
              "    </tr>\n",
              "    <tr>\n",
              "      <th>1201</th>\n",
              "      <td>4</td>\n",
              "      <td>3</td>\n",
              "      <td>3</td>\n",
              "      <td>2</td>\n",
              "      <td>1</td>\n",
              "      <td>3</td>\n",
              "    </tr>\n",
              "    <tr>\n",
              "      <th>628</th>\n",
              "      <td>2</td>\n",
              "      <td>2</td>\n",
              "      <td>2</td>\n",
              "      <td>3</td>\n",
              "      <td>3</td>\n",
              "      <td>3</td>\n",
              "    </tr>\n",
              "    <tr>\n",
              "      <th>1498</th>\n",
              "      <td>3</td>\n",
              "      <td>2</td>\n",
              "      <td>2</td>\n",
              "      <td>2</td>\n",
              "      <td>1</td>\n",
              "      <td>3</td>\n",
              "    </tr>\n",
              "    <tr>\n",
              "      <th>1263</th>\n",
              "      <td>4</td>\n",
              "      <td>3</td>\n",
              "      <td>4</td>\n",
              "      <td>1</td>\n",
              "      <td>1</td>\n",
              "      <td>1</td>\n",
              "    </tr>\n",
              "  </tbody>\n",
              "</table>\n",
              "</div>"
            ],
            "text/plain": [
              "      buying value  Maintainance  No of doors  persons  lug space  safety\n",
              "599              2             2            4        3          1       2\n",
              "1201             4             3            3        2          1       3\n",
              "628              2             2            2        3          3       3\n",
              "1498             3             2            2        2          1       3\n",
              "1263             4             3            4        1          1       1"
            ]
          },
          "metadata": {},
          "execution_count": 19
        }
      ]
    },
    {
      "cell_type": "markdown",
      "metadata": {
        "id": "ARVeVNDXvGUg"
      },
      "source": [
        "We now have training and test set ready for model building."
      ]
    },
    {
      "cell_type": "markdown",
      "metadata": {
        "id": "QEj-VDxAvKOX"
      },
      "source": [
        "## **Decision Tree Classifier with criterion gini index**"
      ]
    },
    {
      "cell_type": "code",
      "metadata": {
        "id": "_5NNvMn9vV0N"
      },
      "source": [
        "# import DecisionTreeClassifier\n",
        "\n",
        "from sklearn.tree import DecisionTreeClassifier"
      ],
      "execution_count": 20,
      "outputs": []
    },
    {
      "cell_type": "code",
      "metadata": {
        "colab": {
          "base_uri": "https://localhost:8080/"
        },
        "id": "p6mVAfusvZPg",
        "outputId": "05492a06-15e0-4d12-9271-c18664be3e5c"
      },
      "source": [
        "# instantiate the DecisionTreeClassifier model with criterion gini index\n",
        "clf_gini = DecisionTreeClassifier(criterion='gini', max_depth=5, random_state=0)\n",
        "# clf_gini = DecisionTreeClassifier(criterion='gini', random_state=0)\n",
        "\n",
        "# fit the model\n",
        "clf_gini.fit(X_train, y_train)"
      ],
      "execution_count": 69,
      "outputs": [
        {
          "output_type": "execute_result",
          "data": {
            "text/plain": [
              "DecisionTreeClassifier(ccp_alpha=0.0, class_weight=None, criterion='gini',\n",
              "                       max_depth=5, max_features=None, max_leaf_nodes=None,\n",
              "                       min_impurity_decrease=0.0, min_impurity_split=None,\n",
              "                       min_samples_leaf=1, min_samples_split=2,\n",
              "                       min_weight_fraction_leaf=0.0, presort='deprecated',\n",
              "                       random_state=0, splitter='best')"
            ]
          },
          "metadata": {},
          "execution_count": 69
        }
      ]
    },
    {
      "cell_type": "markdown",
      "metadata": {
        "id": "doumfCHUvdjH"
      },
      "source": [
        "Predict the Test set results with criterion gini index"
      ]
    },
    {
      "cell_type": "code",
      "metadata": {
        "id": "Z03YYBgdviDZ"
      },
      "source": [
        "y_pred_gini = clf_gini.predict(X_test)"
      ],
      "execution_count": 40,
      "outputs": []
    },
    {
      "cell_type": "markdown",
      "metadata": {
        "id": "EsG6FIS1vm_m"
      },
      "source": [
        "Check accuracy score with criterion gini index"
      ]
    },
    {
      "cell_type": "code",
      "metadata": {
        "colab": {
          "base_uri": "https://localhost:8080/"
        },
        "id": "RgdiQtABvy_R",
        "outputId": "46634676-339b-442d-a983-5630fbce2108"
      },
      "source": [
        "from sklearn.metrics import accuracy_score\n",
        "\n",
        "print('Model accuracy score with criterion gini index: {0:0.4f}'. format(accuracy_score(y_test, y_pred_gini)))"
      ],
      "execution_count": 41,
      "outputs": [
        {
          "output_type": "stream",
          "name": "stdout",
          "text": [
            "Model accuracy score with criterion gini index: 0.8774\n"
          ]
        }
      ]
    },
    {
      "cell_type": "markdown",
      "metadata": {
        "id": "pS6NzBhhvxb8"
      },
      "source": [
        "Here, **y_test** are the true class labels and **y_pred_gini** are the predicted class labels in the test-set."
      ]
    },
    {
      "cell_type": "markdown",
      "metadata": {
        "id": "x49fo6ehv__E"
      },
      "source": [
        "### Compare the train-set and test-set accuracy\n",
        "\n",
        "Now, I will compare the train-set and test-set accuracy to check for overfitting."
      ]
    },
    {
      "cell_type": "code",
      "metadata": {
        "colab": {
          "base_uri": "https://localhost:8080/"
        },
        "id": "HQeczsBxv9GX",
        "outputId": "7e047330-7b49-4c16-f3db-b61b634d7b89"
      },
      "source": [
        "y_pred_train_gini = clf_gini.predict(X_train)\n",
        "\n",
        "y_pred_train_gini"
      ],
      "execution_count": 42,
      "outputs": [
        {
          "output_type": "execute_result",
          "data": {
            "text/plain": [
              "array(['unacc', 'unacc', 'unacc', ..., 'acc', 'unacc', 'acc'],\n",
              "      dtype=object)"
            ]
          },
          "metadata": {},
          "execution_count": 42
        }
      ]
    },
    {
      "cell_type": "code",
      "metadata": {
        "colab": {
          "base_uri": "https://localhost:8080/"
        },
        "id": "aEomQ4rLwKF1",
        "outputId": "94d17636-01cf-4d2f-f619-386a606c80c1"
      },
      "source": [
        "print('Training-set accuracy score: {0:0.4f}'. format(accuracy_score(y_train, y_pred_train_gini)))"
      ],
      "execution_count": 43,
      "outputs": [
        {
          "output_type": "stream",
          "name": "stdout",
          "text": [
            "Training-set accuracy score: 0.8686\n"
          ]
        }
      ]
    },
    {
      "cell_type": "markdown",
      "metadata": {
        "id": "MT4-KT13wM6n"
      },
      "source": [
        "### Check for overfitting and underfitting"
      ]
    },
    {
      "cell_type": "code",
      "metadata": {
        "colab": {
          "base_uri": "https://localhost:8080/"
        },
        "id": "-l5fYGw-wTym",
        "outputId": "cca35b4e-8b50-41db-c86a-7d303152dfd6"
      },
      "source": [
        "# print the scores on training and test set\n",
        "\n",
        "print('Training set score: {:.4f}'.format(clf_gini.score(X_train, y_train)))\n",
        "\n",
        "print('Test set score: {:.4f}'.format(clf_gini.score(X_test, y_test)))"
      ],
      "execution_count": 44,
      "outputs": [
        {
          "output_type": "stream",
          "name": "stdout",
          "text": [
            "Training set score: 0.8686\n",
            "Test set score: 0.8774\n"
          ]
        }
      ]
    },
    {
      "cell_type": "markdown",
      "metadata": {
        "id": "D_fwUKedwXbk"
      },
      "source": [
        "Here, the training-set accuracy score is 0.8686 while the test-set accuracy to be 0.8774. These two values are quite comparable. So, there is no sign of overfitting."
      ]
    },
    {
      "cell_type": "markdown",
      "metadata": {
        "id": "wMYSVI1kwY1Z"
      },
      "source": [
        "### **Visualize decision-trees**"
      ]
    },
    {
      "cell_type": "code",
      "metadata": {
        "colab": {
          "base_uri": "https://localhost:8080/",
          "height": 784
        },
        "id": "9pSlg0ZWwfIo",
        "outputId": "8ef711ec-f945-4c8e-c657-1217ecff3b46"
      },
      "source": [
        "plt.figure(figsize=(12,8))\n",
        "\n",
        "from sklearn import tree\n",
        "\n",
        "tree.plot_tree(clf_gini.fit(X_train, y_train)) "
      ],
      "execution_count": 45,
      "outputs": [
        {
          "output_type": "execute_result",
          "data": {
            "text/plain": [
              "[Text(334.8, 398.64, 'X[5] <= 1.5\\ngini = 0.455\\nsamples = 1157\\nvalue = [255, 49, 813, 40]'),\n",
              " Text(292.95, 326.15999999999997, 'gini = 0.0\\nsamples = 386\\nvalue = [0, 0, 386, 0]'),\n",
              " Text(376.65000000000003, 326.15999999999997, 'X[3] <= 2.5\\ngini = 0.577\\nsamples = 771\\nvalue = [255, 49, 427, 40]'),\n",
              " Text(334.8, 253.67999999999998, 'X[0] <= 2.5\\ngini = 0.631\\nsamples = 525\\nvalue = [255, 49, 181, 40]'),\n",
              " Text(167.4, 181.2, 'X[1] <= 2.5\\ngini = 0.496\\nsamples = 271\\nvalue = [124, 0, 147, 0]'),\n",
              " Text(83.7, 108.71999999999997, 'X[0] <= 1.5\\ngini = 0.259\\nsamples = 131\\nvalue = [20, 0, 111, 0]'),\n",
              " Text(41.85, 36.23999999999995, 'gini = 0.0\\nsamples = 70\\nvalue = [0, 0, 70, 0]'),\n",
              " Text(125.55000000000001, 36.23999999999995, 'gini = 0.441\\nsamples = 61\\nvalue = [20, 0, 41, 0]'),\n",
              " Text(251.10000000000002, 108.71999999999997, 'X[5] <= 2.5\\ngini = 0.382\\nsamples = 140\\nvalue = [104, 0, 36, 0]'),\n",
              " Text(209.25, 36.23999999999995, 'gini = 0.056\\nsamples = 70\\nvalue = [68, 0, 2, 0]'),\n",
              " Text(292.95, 36.23999999999995, 'gini = 0.5\\nsamples = 70\\nvalue = [36, 0, 34, 0]'),\n",
              " Text(502.20000000000005, 181.2, 'X[1] <= 2.5\\ngini = 0.654\\nsamples = 254\\nvalue = [131, 49, 34, 40]'),\n",
              " Text(418.5, 108.71999999999997, 'X[5] <= 2.5\\ngini = 0.442\\nsamples = 129\\nvalue = [92, 0, 27, 10]'),\n",
              " Text(376.65000000000003, 36.23999999999995, 'gini = 0.326\\nsamples = 67\\nvalue = [54, 0, 3, 10]'),\n",
              " Text(460.35, 36.23999999999995, 'gini = 0.475\\nsamples = 62\\nvalue = [38, 0, 24, 0]'),\n",
              " Text(585.9, 108.71999999999997, 'X[5] <= 2.5\\ngini = 0.688\\nsamples = 125\\nvalue = [39, 49, 7, 30]'),\n",
              " Text(544.0500000000001, 36.23999999999995, 'gini = 0.594\\nsamples = 58\\nvalue = [3, 21, 4, 30]'),\n",
              " Text(627.75, 36.23999999999995, 'gini = 0.535\\nsamples = 67\\nvalue = [36, 28, 3, 0]'),\n",
              " Text(418.5, 253.67999999999998, 'gini = 0.0\\nsamples = 246\\nvalue = [0, 0, 246, 0]')]"
            ]
          },
          "metadata": {},
          "execution_count": 45
        },
        {
          "output_type": "display_data",
          "data": {
            "image/png": "[encoded data removed]",
            "text/plain": [
              "<Figure size 864x576 with 1 Axes>"
            ]
          },
          "metadata": {
            "needs_background": "light"
          }
        }
      ]
    },
    {
      "cell_type": "markdown",
      "metadata": {
        "id": "rfqRDiQdwl4p"
      },
      "source": [
        "### **Visualize decision-trees with graphviz**"
      ]
    },
    {
      "cell_type": "code",
      "metadata": {
        "colab": {
          "base_uri": "https://localhost:8080/",
          "height": 816
        },
        "id": "a2RAucjEwrE_",
        "outputId": "efa2b9fb-1b46-4240-ee34-e754d154a388"
      },
      "source": [
        "import graphviz \n",
        "dot_data = tree.export_graphviz(clf_gini, out_file=None, \n",
        "                              feature_names=X_train.columns,  \n",
        "                              #class_names=y_train,  \n",
        "                              filled=True, rounded=True,  \n",
        "                              special_characters=True)\n",
        "\n",
        "graph = graphviz.Source(dot_data) \n",
        "graph.render(\"gini.png\")\n",
        "graph "
      ],
      "execution_count": 46,
      "outputs": [
        {
          "output_type": "execute_result",
          "data": {
            "text/plain": [
              "<graphviz.files.Source at 0x7f21ed4d6050>"
            ],
            "image/svg+xml": "<?xml version=\"1.0\" encoding=\"UTF-8\" standalone=\"no\"?>\n<!DOCTYPE svg PUBLIC \"-//W3C//DTD SVG 1.1//EN\"\n \"http://www.w3.org/Graphics/SVG/1.1/DTD/svg11.dtd\">\n<!-- Generated by graphviz version 2.40.1 (20161225.0304)\n -->\n<!-- Title: Tree Pages: 1 -->\n<svg width=\"1294pt\" height=\"581pt\"\n viewBox=\"0.00 0.00 1294.00 581.00\" xmlns=\"http://www.w3.org/2000/svg\" xmlns:xlink=\"http://www.w3.org/1999/xlink\">\n<g id=\"graph0\" class=\"graph\" transform=\"scale(1 1) rotate(0) translate(4 577)\">\n<title>Tree</title>\n<polygon fill=\"#ffffff\" stroke=\"transparent\" points=\"-4,4 -4,-577 1290,-577 1290,4 -4,4\"/>\n<!-- 0 -->\n<g id=\"node1\" class=\"node\">\n<title>0</title>\n<path fill=\"#85c2ef\" stroke=\"#000000\" d=\"M702.5,-573C702.5,-573 546.5,-573 546.5,-573 540.5,-573 534.5,-567 534.5,-561 534.5,-561 534.5,-517 534.5,-517 534.5,-511 540.5,-505 546.5,-505 546.5,-505 702.5,-505 702.5,-505 708.5,-505 714.5,-511 714.5,-517 714.5,-517 714.5,-561 714.5,-561 714.5,-567 708.5,-573 702.5,-573\"/>\n<text text-anchor=\"start\" x=\"587\" y=\"-557.8\" font-family=\"Helvetica,sans-Serif\" font-size=\"14.00\" fill=\"#000000\">safety ≤ 1.5</text>\n<text text-anchor=\"start\" x=\"586.5\" y=\"-542.8\" font-family=\"Helvetica,sans-Serif\" font-size=\"14.00\" fill=\"#000000\">gini = 0.455</text>\n<text text-anchor=\"start\" x=\"572.5\" y=\"-527.8\" font-family=\"Helvetica,sans-Serif\" font-size=\"14.00\" fill=\"#000000\">samples = 1157</text>\n<text text-anchor=\"start\" x=\"542.5\" y=\"-512.8\" font-family=\"Helvetica,sans-Serif\" font-size=\"14.00\" fill=\"#000000\">value = [255, 49, 813, 40]</text>\n</g>\n<!-- 1 -->\n<g id=\"node2\" class=\"node\">\n<title>1</title>\n<path fill=\"#399de5\" stroke=\"#000000\" d=\"M595,-461.5C595,-461.5 472,-461.5 472,-461.5 466,-461.5 460,-455.5 460,-449.5 460,-449.5 460,-420.5 460,-420.5 460,-414.5 466,-408.5 472,-408.5 472,-408.5 595,-408.5 595,-408.5 601,-408.5 607,-414.5 607,-420.5 607,-420.5 607,-449.5 607,-449.5 607,-455.5 601,-461.5 595,-461.5\"/>\n<text text-anchor=\"start\" x=\"504\" y=\"-446.3\" font-family=\"Helvetica,sans-Serif\" font-size=\"14.00\" fill=\"#000000\">gini = 0.0</text>\n<text text-anchor=\"start\" x=\"485.5\" y=\"-431.3\" font-family=\"Helvetica,sans-Serif\" font-size=\"14.00\" fill=\"#000000\">samples = 386</text>\n<text text-anchor=\"start\" x=\"468\" y=\"-416.3\" font-family=\"Helvetica,sans-Serif\" font-size=\"14.00\" fill=\"#000000\">value = [0, 0, 386, 0]</text>\n</g>\n<!-- 0&#45;&gt;1 -->\n<g id=\"edge1\" class=\"edge\">\n<title>0&#45;&gt;1</title>\n<path fill=\"none\" stroke=\"#000000\" d=\"M594.7032,-504.9465C584.6796,-493.491 573.4972,-480.711 563.461,-469.2412\"/>\n<polygon fill=\"#000000\" stroke=\"#000000\" points=\"565.9435,-466.7632 556.7244,-461.5422 560.6754,-471.3727 565.9435,-466.7632\"/>\n<text text-anchor=\"middle\" x=\"555.0614\" y=\"-482.7868\" font-family=\"Helvetica,sans-Serif\" font-size=\"14.00\" fill=\"#000000\">True</text>\n</g>\n<!-- 2 -->\n<g id=\"node3\" class=\"node\">\n<title>2</title>\n<path fill=\"#bddef6\" stroke=\"#000000\" d=\"M793.5,-469C793.5,-469 637.5,-469 637.5,-469 631.5,-469 625.5,-463 625.5,-457 625.5,-457 625.5,-413 625.5,-413 625.5,-407 631.5,-401 637.5,-401 637.5,-401 793.5,-401 793.5,-401 799.5,-401 805.5,-407 805.5,-413 805.5,-413 805.5,-457 805.5,-457 805.5,-463 799.5,-469 793.5,-469\"/>\n<text text-anchor=\"start\" x=\"671.5\" y=\"-453.8\" font-family=\"Helvetica,sans-Serif\" font-size=\"14.00\" fill=\"#000000\">persons ≤ 2.5</text>\n<text text-anchor=\"start\" x=\"677.5\" y=\"-438.8\" font-family=\"Helvetica,sans-Serif\" font-size=\"14.00\" fill=\"#000000\">gini = 0.577</text>\n<text text-anchor=\"start\" x=\"667.5\" y=\"-423.8\" font-family=\"Helvetica,sans-Serif\" font-size=\"14.00\" fill=\"#000000\">samples = 771</text>\n<text text-anchor=\"start\" x=\"633.5\" y=\"-408.8\" font-family=\"Helvetica,sans-Serif\" font-size=\"14.00\" fill=\"#000000\">value = [255, 49, 427, 40]</text>\n</g>\n<!-- 0&#45;&gt;2 -->\n<g id=\"edge2\" class=\"edge\">\n<title>0&#45;&gt;2</title>\n<path fill=\"none\" stroke=\"#000000\" d=\"M654.2968,-504.9465C662.153,-495.968 670.7212,-486.1758 678.8913,-476.8385\"/>\n<polygon fill=\"#000000\" stroke=\"#000000\" points=\"681.6852,-478.9606 685.6363,-469.13 676.4171,-474.351 681.6852,-478.9606\"/>\n<text text-anchor=\"middle\" x=\"687.2992\" y=\"-490.3746\" font-family=\"Helvetica,sans-Serif\" font-size=\"14.00\" fill=\"#000000\">False</text>\n</g>\n<!-- 3 -->\n<g id=\"node4\" class=\"node\">\n<title>3</title>\n<path fill=\"#f9e4d4\" stroke=\"#000000\" d=\"M702.5,-365C702.5,-365 546.5,-365 546.5,-365 540.5,-365 534.5,-359 534.5,-353 534.5,-353 534.5,-309 534.5,-309 534.5,-303 540.5,-297 546.5,-297 546.5,-297 702.5,-297 702.5,-297 708.5,-297 714.5,-303 714.5,-309 714.5,-309 714.5,-353 714.5,-353 714.5,-359 708.5,-365 702.5,-365\"/>\n<text text-anchor=\"start\" x=\"565.5\" y=\"-349.8\" font-family=\"Helvetica,sans-Serif\" font-size=\"14.00\" fill=\"#000000\">buying value ≤ 2.5</text>\n<text text-anchor=\"start\" x=\"586.5\" y=\"-334.8\" font-family=\"Helvetica,sans-Serif\" font-size=\"14.00\" fill=\"#000000\">gini = 0.631</text>\n<text text-anchor=\"start\" x=\"576.5\" y=\"-319.8\" font-family=\"Helvetica,sans-Serif\" font-size=\"14.00\" fill=\"#000000\">samples = 525</text>\n<text text-anchor=\"start\" x=\"542.5\" y=\"-304.8\" font-family=\"Helvetica,sans-Serif\" font-size=\"14.00\" fill=\"#000000\">value = [255, 49, 181, 40]</text>\n</g>\n<!-- 2&#45;&gt;3 -->\n<g id=\"edge3\" class=\"edge\">\n<title>2&#45;&gt;3</title>\n<path fill=\"none\" stroke=\"#000000\" d=\"M685.7032,-400.9465C677.847,-391.968 669.2788,-382.1758 661.1087,-372.8385\"/>\n<polygon fill=\"#000000\" stroke=\"#000000\" points=\"663.5829,-370.351 654.3637,-365.13 658.3148,-374.9606 663.5829,-370.351\"/>\n</g>\n<!-- 18 -->\n<g id=\"node19\" class=\"node\">\n<title>18</title>\n<path fill=\"#399de5\" stroke=\"#000000\" d=\"M868,-357.5C868,-357.5 745,-357.5 745,-357.5 739,-357.5 733,-351.5 733,-345.5 733,-345.5 733,-316.5 733,-316.5 733,-310.5 739,-304.5 745,-304.5 745,-304.5 868,-304.5 868,-304.5 874,-304.5 880,-310.5 880,-316.5 880,-316.5 880,-345.5 880,-345.5 880,-351.5 874,-357.5 868,-357.5\"/>\n<text text-anchor=\"start\" x=\"777\" y=\"-342.3\" font-family=\"Helvetica,sans-Serif\" font-size=\"14.00\" fill=\"#000000\">gini = 0.0</text>\n<text text-anchor=\"start\" x=\"758.5\" y=\"-327.3\" font-family=\"Helvetica,sans-Serif\" font-size=\"14.00\" fill=\"#000000\">samples = 246</text>\n<text text-anchor=\"start\" x=\"741\" y=\"-312.3\" font-family=\"Helvetica,sans-Serif\" font-size=\"14.00\" fill=\"#000000\">value = [0, 0, 246, 0]</text>\n</g>\n<!-- 2&#45;&gt;18 -->\n<g id=\"edge18\" class=\"edge\">\n<title>2&#45;&gt;18</title>\n<path fill=\"none\" stroke=\"#000000\" d=\"M745.2968,-400.9465C755.3204,-389.491 766.5028,-376.711 776.539,-365.2412\"/>\n<polygon fill=\"#000000\" stroke=\"#000000\" points=\"779.3246,-367.3727 783.2756,-357.5422 774.0565,-362.7632 779.3246,-367.3727\"/>\n</g>\n<!-- 4 -->\n<g id=\"node5\" class=\"node\">\n<title>4</title>\n<path fill=\"#e0f0fb\" stroke=\"#000000\" d=\"M537.5,-261C537.5,-261 397.5,-261 397.5,-261 391.5,-261 385.5,-255 385.5,-249 385.5,-249 385.5,-205 385.5,-205 385.5,-199 391.5,-193 397.5,-193 397.5,-193 537.5,-193 537.5,-193 543.5,-193 549.5,-199 549.5,-205 549.5,-205 549.5,-249 549.5,-249 549.5,-255 543.5,-261 537.5,-261\"/>\n<text text-anchor=\"start\" x=\"406\" y=\"-245.8\" font-family=\"Helvetica,sans-Serif\" font-size=\"14.00\" fill=\"#000000\">Maintainance ≤ 2.5</text>\n<text text-anchor=\"start\" x=\"429.5\" y=\"-230.8\" font-family=\"Helvetica,sans-Serif\" font-size=\"14.00\" fill=\"#000000\">gini = 0.496</text>\n<text text-anchor=\"start\" x=\"419.5\" y=\"-215.8\" font-family=\"Helvetica,sans-Serif\" font-size=\"14.00\" fill=\"#000000\">samples = 271</text>\n<text text-anchor=\"start\" x=\"393.5\" y=\"-200.8\" font-family=\"Helvetica,sans-Serif\" font-size=\"14.00\" fill=\"#000000\">value = [124, 0, 147, 0]</text>\n</g>\n<!-- 3&#45;&gt;4 -->\n<g id=\"edge4\" class=\"edge\">\n<title>3&#45;&gt;4</title>\n<path fill=\"none\" stroke=\"#000000\" d=\"M573.0923,-296.9465C558.5894,-287.3395 542.6802,-276.8009 527.7107,-266.8848\"/>\n<polygon fill=\"#000000\" stroke=\"#000000\" points=\"529.2929,-263.7346 519.0232,-261.13 525.4271,-269.5704 529.2929,-263.7346\"/>\n</g>\n<!-- 11 -->\n<g id=\"node12\" class=\"node\">\n<title>11</title>\n<path fill=\"#f5cdb0\" stroke=\"#000000\" d=\"M869.5,-261C869.5,-261 721.5,-261 721.5,-261 715.5,-261 709.5,-255 709.5,-249 709.5,-249 709.5,-205 709.5,-205 709.5,-199 715.5,-193 721.5,-193 721.5,-193 869.5,-193 869.5,-193 875.5,-193 881.5,-199 881.5,-205 881.5,-205 881.5,-249 881.5,-249 881.5,-255 875.5,-261 869.5,-261\"/>\n<text text-anchor=\"start\" x=\"734\" y=\"-245.8\" font-family=\"Helvetica,sans-Serif\" font-size=\"14.00\" fill=\"#000000\">Maintainance ≤ 2.5</text>\n<text text-anchor=\"start\" x=\"757.5\" y=\"-230.8\" font-family=\"Helvetica,sans-Serif\" font-size=\"14.00\" fill=\"#000000\">gini = 0.654</text>\n<text text-anchor=\"start\" x=\"747.5\" y=\"-215.8\" font-family=\"Helvetica,sans-Serif\" font-size=\"14.00\" fill=\"#000000\">samples = 254</text>\n<text text-anchor=\"start\" x=\"717.5\" y=\"-200.8\" font-family=\"Helvetica,sans-Serif\" font-size=\"14.00\" fill=\"#000000\">value = [131, 49, 34, 40]</text>\n</g>\n<!-- 3&#45;&gt;11 -->\n<g id=\"edge11\" class=\"edge\">\n<title>3&#45;&gt;11</title>\n<path fill=\"none\" stroke=\"#000000\" d=\"M680.4918,-296.9465C696.5832,-287.1599 714.2641,-276.4066 730.8334,-266.3294\"/>\n<polygon fill=\"#000000\" stroke=\"#000000\" points=\"732.6572,-269.3167 739.3824,-261.13 729.0198,-263.336 732.6572,-269.3167\"/>\n</g>\n<!-- 5 -->\n<g id=\"node6\" class=\"node\">\n<title>5</title>\n<path fill=\"#5dafea\" stroke=\"#000000\" d=\"M296,-157C296,-157 165,-157 165,-157 159,-157 153,-151 153,-145 153,-145 153,-101 153,-101 153,-95 159,-89 165,-89 165,-89 296,-89 296,-89 302,-89 308,-95 308,-101 308,-101 308,-145 308,-145 308,-151 302,-157 296,-157\"/>\n<text text-anchor=\"start\" x=\"171.5\" y=\"-141.8\" font-family=\"Helvetica,sans-Serif\" font-size=\"14.00\" fill=\"#000000\">buying value ≤ 1.5</text>\n<text text-anchor=\"start\" x=\"192.5\" y=\"-126.8\" font-family=\"Helvetica,sans-Serif\" font-size=\"14.00\" fill=\"#000000\">gini = 0.259</text>\n<text text-anchor=\"start\" x=\"182.5\" y=\"-111.8\" font-family=\"Helvetica,sans-Serif\" font-size=\"14.00\" fill=\"#000000\">samples = 131</text>\n<text text-anchor=\"start\" x=\"161\" y=\"-96.8\" font-family=\"Helvetica,sans-Serif\" font-size=\"14.00\" fill=\"#000000\">value = [20, 0, 111, 0]</text>\n</g>\n<!-- 4&#45;&gt;5 -->\n<g id=\"edge5\" class=\"edge\">\n<title>4&#45;&gt;5</title>\n<path fill=\"none\" stroke=\"#000000\" d=\"M389.8973,-192.9465C366.7767,-182.8008 341.2886,-171.6161 317.6039,-161.2228\"/>\n<polygon fill=\"#000000\" stroke=\"#000000\" points=\"318.8406,-157.9434 308.277,-157.13 316.0277,-164.3534 318.8406,-157.9434\"/>\n</g>\n<!-- 8 -->\n<g id=\"node9\" class=\"node\">\n<title>8</title>\n<path fill=\"#eead7e\" stroke=\"#000000\" d=\"M533,-157C533,-157 402,-157 402,-157 396,-157 390,-151 390,-145 390,-145 390,-101 390,-101 390,-95 396,-89 402,-89 402,-89 533,-89 533,-89 539,-89 545,-95 545,-101 545,-101 545,-145 545,-145 545,-151 539,-157 533,-157\"/>\n<text text-anchor=\"start\" x=\"430\" y=\"-141.8\" font-family=\"Helvetica,sans-Serif\" font-size=\"14.00\" fill=\"#000000\">safety ≤ 2.5</text>\n<text text-anchor=\"start\" x=\"429.5\" y=\"-126.8\" font-family=\"Helvetica,sans-Serif\" font-size=\"14.00\" fill=\"#000000\">gini = 0.382</text>\n<text text-anchor=\"start\" x=\"419.5\" y=\"-111.8\" font-family=\"Helvetica,sans-Serif\" font-size=\"14.00\" fill=\"#000000\">samples = 140</text>\n<text text-anchor=\"start\" x=\"398\" y=\"-96.8\" font-family=\"Helvetica,sans-Serif\" font-size=\"14.00\" fill=\"#000000\">value = [104, 0, 36, 0]</text>\n</g>\n<!-- 4&#45;&gt;8 -->\n<g id=\"edge8\" class=\"edge\">\n<title>4&#45;&gt;8</title>\n<path fill=\"none\" stroke=\"#000000\" d=\"M467.5,-192.9465C467.5,-184.776 467.5,-175.9318 467.5,-167.3697\"/>\n<polygon fill=\"#000000\" stroke=\"#000000\" points=\"471.0001,-167.13 467.5,-157.13 464.0001,-167.13 471.0001,-167.13\"/>\n</g>\n<!-- 6 -->\n<g id=\"node7\" class=\"node\">\n<title>6</title>\n<path fill=\"#399de5\" stroke=\"#000000\" d=\"M127,-53C127,-53 12,-53 12,-53 6,-53 0,-47 0,-41 0,-41 0,-12 0,-12 0,-6 6,0 12,0 12,0 127,0 127,0 133,0 139,-6 139,-12 139,-12 139,-41 139,-41 139,-47 133,-53 127,-53\"/>\n<text text-anchor=\"start\" x=\"40\" y=\"-37.8\" font-family=\"Helvetica,sans-Serif\" font-size=\"14.00\" fill=\"#000000\">gini = 0.0</text>\n<text text-anchor=\"start\" x=\"25.5\" y=\"-22.8\" font-family=\"Helvetica,sans-Serif\" font-size=\"14.00\" fill=\"#000000\">samples = 70</text>\n<text text-anchor=\"start\" x=\"8\" y=\"-7.8\" font-family=\"Helvetica,sans-Serif\" font-size=\"14.00\" fill=\"#000000\">value = [0, 0, 70, 0]</text>\n</g>\n<!-- 5&#45;&gt;6 -->\n<g id=\"edge6\" class=\"edge\">\n<title>5&#45;&gt;6</title>\n<path fill=\"none\" stroke=\"#000000\" d=\"M173.7374,-88.9777C157.1614,-79.0424 139.1107,-68.2232 122.7598,-58.4228\"/>\n<polygon fill=\"#000000\" stroke=\"#000000\" points=\"124.2477,-55.2341 113.871,-53.095 120.6489,-61.2382 124.2477,-55.2341\"/>\n</g>\n<!-- 7 -->\n<g id=\"node8\" class=\"node\">\n<title>7</title>\n<path fill=\"#9acdf2\" stroke=\"#000000\" d=\"M292,-53C292,-53 169,-53 169,-53 163,-53 157,-47 157,-41 157,-41 157,-12 157,-12 157,-6 163,0 169,0 169,0 292,0 292,0 298,0 304,-6 304,-12 304,-12 304,-41 304,-41 304,-47 298,-53 292,-53\"/>\n<text text-anchor=\"start\" x=\"192.5\" y=\"-37.8\" font-family=\"Helvetica,sans-Serif\" font-size=\"14.00\" fill=\"#000000\">gini = 0.441</text>\n<text text-anchor=\"start\" x=\"186.5\" y=\"-22.8\" font-family=\"Helvetica,sans-Serif\" font-size=\"14.00\" fill=\"#000000\">samples = 61</text>\n<text text-anchor=\"start\" x=\"165\" y=\"-7.8\" font-family=\"Helvetica,sans-Serif\" font-size=\"14.00\" fill=\"#000000\">value = [20, 0, 41, 0]</text>\n</g>\n<!-- 5&#45;&gt;7 -->\n<g id=\"edge7\" class=\"edge\">\n<title>5&#45;&gt;7</title>\n<path fill=\"none\" stroke=\"#000000\" d=\"M230.5,-88.9777C230.5,-80.7364 230.5,-71.887 230.5,-63.5153\"/>\n<polygon fill=\"#000000\" stroke=\"#000000\" points=\"234.0001,-63.2484 230.5,-53.2485 227.0001,-63.2485 234.0001,-63.2484\"/>\n</g>\n<!-- 9 -->\n<g id=\"node10\" class=\"node\">\n<title>9</title>\n<path fill=\"#e6853f\" stroke=\"#000000\" d=\"M449,-53C449,-53 334,-53 334,-53 328,-53 322,-47 322,-41 322,-41 322,-12 322,-12 322,-6 328,0 334,0 334,0 449,0 449,0 455,0 461,-6 461,-12 461,-12 461,-41 461,-41 461,-47 455,-53 449,-53\"/>\n<text text-anchor=\"start\" x=\"353.5\" y=\"-37.8\" font-family=\"Helvetica,sans-Serif\" font-size=\"14.00\" fill=\"#000000\">gini = 0.056</text>\n<text text-anchor=\"start\" x=\"347.5\" y=\"-22.8\" font-family=\"Helvetica,sans-Serif\" font-size=\"14.00\" fill=\"#000000\">samples = 70</text>\n<text text-anchor=\"start\" x=\"330\" y=\"-7.8\" font-family=\"Helvetica,sans-Serif\" font-size=\"14.00\" fill=\"#000000\">value = [68, 0, 2, 0]</text>\n</g>\n<!-- 8&#45;&gt;9 -->\n<g id=\"edge9\" class=\"edge\">\n<title>8&#45;&gt;9</title>\n<path fill=\"none\" stroke=\"#000000\" d=\"M440.7052,-88.9777C433.6378,-80.0039 426.0024,-70.3089 418.9033,-61.295\"/>\n<polygon fill=\"#000000\" stroke=\"#000000\" points=\"421.503,-58.9391 412.5662,-53.2485 416.0037,-63.2701 421.503,-58.9391\"/>\n</g>\n<!-- 10 -->\n<g id=\"node11\" class=\"node\">\n<title>10</title>\n<path fill=\"#fef8f4\" stroke=\"#000000\" d=\"M614,-53C614,-53 491,-53 491,-53 485,-53 479,-47 479,-41 479,-41 479,-12 479,-12 479,-6 485,0 491,0 491,0 614,0 614,0 620,0 626,-6 626,-12 626,-12 626,-41 626,-41 626,-47 620,-53 614,-53\"/>\n<text text-anchor=\"start\" x=\"523\" y=\"-37.8\" font-family=\"Helvetica,sans-Serif\" font-size=\"14.00\" fill=\"#000000\">gini = 0.5</text>\n<text text-anchor=\"start\" x=\"508.5\" y=\"-22.8\" font-family=\"Helvetica,sans-Serif\" font-size=\"14.00\" fill=\"#000000\">samples = 70</text>\n<text text-anchor=\"start\" x=\"487\" y=\"-7.8\" font-family=\"Helvetica,sans-Serif\" font-size=\"14.00\" fill=\"#000000\">value = [36, 0, 34, 0]</text>\n</g>\n<!-- 8&#45;&gt;10 -->\n<g id=\"edge10\" class=\"edge\">\n<title>8&#45;&gt;10</title>\n<path fill=\"none\" stroke=\"#000000\" d=\"M497.4678,-88.9777C505.4529,-79.9123 514.0862,-70.111 522.0944,-61.0192\"/>\n<polygon fill=\"#000000\" stroke=\"#000000\" points=\"524.9558,-63.066 528.9392,-53.2485 519.7029,-58.4391 524.9558,-63.066\"/>\n</g>\n<!-- 12 -->\n<g id=\"node13\" class=\"node\">\n<title>12</title>\n<path fill=\"#eeaf81\" stroke=\"#000000\" d=\"M861,-157C861,-157 730,-157 730,-157 724,-157 718,-151 718,-145 718,-145 718,-101 718,-101 718,-95 724,-89 730,-89 730,-89 861,-89 861,-89 867,-89 873,-95 873,-101 873,-101 873,-145 873,-145 873,-151 867,-157 861,-157\"/>\n<text text-anchor=\"start\" x=\"758\" y=\"-141.8\" font-family=\"Helvetica,sans-Serif\" font-size=\"14.00\" fill=\"#000000\">safety ≤ 2.5</text>\n<text text-anchor=\"start\" x=\"757.5\" y=\"-126.8\" font-family=\"Helvetica,sans-Serif\" font-size=\"14.00\" fill=\"#000000\">gini = 0.442</text>\n<text text-anchor=\"start\" x=\"747.5\" y=\"-111.8\" font-family=\"Helvetica,sans-Serif\" font-size=\"14.00\" fill=\"#000000\">samples = 129</text>\n<text text-anchor=\"start\" x=\"726\" y=\"-96.8\" font-family=\"Helvetica,sans-Serif\" font-size=\"14.00\" fill=\"#000000\">value = [92, 0, 27, 10]</text>\n</g>\n<!-- 11&#45;&gt;12 -->\n<g id=\"edge12\" class=\"edge\">\n<title>11&#45;&gt;12</title>\n<path fill=\"none\" stroke=\"#000000\" d=\"M795.5,-192.9465C795.5,-184.776 795.5,-175.9318 795.5,-167.3697\"/>\n<polygon fill=\"#000000\" stroke=\"#000000\" points=\"799.0001,-167.13 795.5,-157.13 792.0001,-167.13 799.0001,-167.13\"/>\n</g>\n<!-- 15 -->\n<g id=\"node16\" class=\"node\">\n<title>15</title>\n<path fill=\"#eafce8\" stroke=\"#000000\" d=\"M1113,-157C1113,-157 982,-157 982,-157 976,-157 970,-151 970,-145 970,-145 970,-101 970,-101 970,-95 976,-89 982,-89 982,-89 1113,-89 1113,-89 1119,-89 1125,-95 1125,-101 1125,-101 1125,-145 1125,-145 1125,-151 1119,-157 1113,-157\"/>\n<text text-anchor=\"start\" x=\"1010\" y=\"-141.8\" font-family=\"Helvetica,sans-Serif\" font-size=\"14.00\" fill=\"#000000\">safety ≤ 2.5</text>\n<text text-anchor=\"start\" x=\"1009.5\" y=\"-126.8\" font-family=\"Helvetica,sans-Serif\" font-size=\"14.00\" fill=\"#000000\">gini = 0.688</text>\n<text text-anchor=\"start\" x=\"999.5\" y=\"-111.8\" font-family=\"Helvetica,sans-Serif\" font-size=\"14.00\" fill=\"#000000\">samples = 125</text>\n<text text-anchor=\"start\" x=\"978\" y=\"-96.8\" font-family=\"Helvetica,sans-Serif\" font-size=\"14.00\" fill=\"#000000\">value = [39, 49, 7, 30]</text>\n</g>\n<!-- 11&#45;&gt;15 -->\n<g id=\"edge15\" class=\"edge\">\n<title>11&#45;&gt;15</title>\n<path fill=\"none\" stroke=\"#000000\" d=\"M878.0142,-192.9465C904.4653,-182.0302 933.8307,-169.9111 960.5863,-158.8692\"/>\n<polygon fill=\"#000000\" stroke=\"#000000\" points=\"962.0236,-162.0624 969.9321,-155.0121 959.3532,-155.5918 962.0236,-162.0624\"/>\n</g>\n<!-- 13 -->\n<g id=\"node14\" class=\"node\">\n<title>13</title>\n<path fill=\"#eb9e66\" stroke=\"#000000\" d=\"M779,-53C779,-53 656,-53 656,-53 650,-53 644,-47 644,-41 644,-41 644,-12 644,-12 644,-6 650,0 656,0 656,0 779,0 779,0 785,0 791,-6 791,-12 791,-12 791,-41 791,-41 791,-47 785,-53 779,-53\"/>\n<text text-anchor=\"start\" x=\"679.5\" y=\"-37.8\" font-family=\"Helvetica,sans-Serif\" font-size=\"14.00\" fill=\"#000000\">gini = 0.326</text>\n<text text-anchor=\"start\" x=\"673.5\" y=\"-22.8\" font-family=\"Helvetica,sans-Serif\" font-size=\"14.00\" fill=\"#000000\">samples = 67</text>\n<text text-anchor=\"start\" x=\"652\" y=\"-7.8\" font-family=\"Helvetica,sans-Serif\" font-size=\"14.00\" fill=\"#000000\">value = [54, 0, 3, 10]</text>\n</g>\n<!-- 12&#45;&gt;13 -->\n<g id=\"edge13\" class=\"edge\">\n<title>12&#45;&gt;13</title>\n<path fill=\"none\" stroke=\"#000000\" d=\"M768.0001,-88.9777C760.7467,-80.0039 752.9103,-70.3089 745.6244,-61.295\"/>\n<polygon fill=\"#000000\" stroke=\"#000000\" points=\"748.1288,-58.8255 739.1205,-53.2485 742.6847,-63.2258 748.1288,-58.8255\"/>\n</g>\n<!-- 14 -->\n<g id=\"node15\" class=\"node\">\n<title>14</title>\n<path fill=\"#f5d1b6\" stroke=\"#000000\" d=\"M944,-53C944,-53 821,-53 821,-53 815,-53 809,-47 809,-41 809,-41 809,-12 809,-12 809,-6 815,0 821,0 821,0 944,0 944,0 950,0 956,-6 956,-12 956,-12 956,-41 956,-41 956,-47 950,-53 944,-53\"/>\n<text text-anchor=\"start\" x=\"844.5\" y=\"-37.8\" font-family=\"Helvetica,sans-Serif\" font-size=\"14.00\" fill=\"#000000\">gini = 0.475</text>\n<text text-anchor=\"start\" x=\"838.5\" y=\"-22.8\" font-family=\"Helvetica,sans-Serif\" font-size=\"14.00\" fill=\"#000000\">samples = 62</text>\n<text text-anchor=\"start\" x=\"817\" y=\"-7.8\" font-family=\"Helvetica,sans-Serif\" font-size=\"14.00\" fill=\"#000000\">value = [38, 0, 24, 0]</text>\n</g>\n<!-- 12&#45;&gt;14 -->\n<g id=\"edge14\" class=\"edge\">\n<title>12&#45;&gt;14</title>\n<path fill=\"none\" stroke=\"#000000\" d=\"M826.1729,-88.9777C834.4285,-79.8207 843.3609,-69.9129 851.6272,-60.744\"/>\n<polygon fill=\"#000000\" stroke=\"#000000\" points=\"854.2883,-63.0193 858.3848,-53.2485 849.0892,-58.3321 854.2883,-63.0193\"/>\n</g>\n<!-- 16 -->\n<g id=\"node17\" class=\"node\">\n<title>16</title>\n<path fill=\"#f5cff9\" stroke=\"#000000\" d=\"M1109,-53C1109,-53 986,-53 986,-53 980,-53 974,-47 974,-41 974,-41 974,-12 974,-12 974,-6 980,0 986,0 986,0 1109,0 1109,0 1115,0 1121,-6 1121,-12 1121,-12 1121,-41 1121,-41 1121,-47 1115,-53 1109,-53\"/>\n<text text-anchor=\"start\" x=\"1009.5\" y=\"-37.8\" font-family=\"Helvetica,sans-Serif\" font-size=\"14.00\" fill=\"#000000\">gini = 0.594</text>\n<text text-anchor=\"start\" x=\"1003.5\" y=\"-22.8\" font-family=\"Helvetica,sans-Serif\" font-size=\"14.00\" fill=\"#000000\">samples = 58</text>\n<text text-anchor=\"start\" x=\"982\" y=\"-7.8\" font-family=\"Helvetica,sans-Serif\" font-size=\"14.00\" fill=\"#000000\">value = [3, 21, 4, 30]</text>\n</g>\n<!-- 15&#45;&gt;16 -->\n<g id=\"edge16\" class=\"edge\">\n<title>15&#45;&gt;16</title>\n<path fill=\"none\" stroke=\"#000000\" d=\"M1047.5,-88.9777C1047.5,-80.7364 1047.5,-71.887 1047.5,-63.5153\"/>\n<polygon fill=\"#000000\" stroke=\"#000000\" points=\"1051.0001,-63.2484 1047.5,-53.2485 1044.0001,-63.2485 1051.0001,-63.2484\"/>\n</g>\n<!-- 17 -->\n<g id=\"node18\" class=\"node\">\n<title>17</title>\n<path fill=\"#fae5d6\" stroke=\"#000000\" d=\"M1274,-53C1274,-53 1151,-53 1151,-53 1145,-53 1139,-47 1139,-41 1139,-41 1139,-12 1139,-12 1139,-6 1145,0 1151,0 1151,0 1274,0 1274,0 1280,0 1286,-6 1286,-12 1286,-12 1286,-41 1286,-41 1286,-47 1280,-53 1274,-53\"/>\n<text text-anchor=\"start\" x=\"1174.5\" y=\"-37.8\" font-family=\"Helvetica,sans-Serif\" font-size=\"14.00\" fill=\"#000000\">gini = 0.535</text>\n<text text-anchor=\"start\" x=\"1168.5\" y=\"-22.8\" font-family=\"Helvetica,sans-Serif\" font-size=\"14.00\" fill=\"#000000\">samples = 67</text>\n<text text-anchor=\"start\" x=\"1147\" y=\"-7.8\" font-family=\"Helvetica,sans-Serif\" font-size=\"14.00\" fill=\"#000000\">value = [36, 28, 3, 0]</text>\n</g>\n<!-- 15&#45;&gt;17 -->\n<g id=\"edge17\" class=\"edge\">\n<title>15&#45;&gt;17</title>\n<path fill=\"none\" stroke=\"#000000\" d=\"M1105.6728,-88.9777C1122.818,-78.9504 1141.5025,-68.0228 1158.382,-58.1508\"/>\n<polygon fill=\"#000000\" stroke=\"#000000\" points=\"1160.1615,-61.1648 1167.0266,-53.095 1156.6276,-55.1223 1160.1615,-61.1648\"/>\n</g>\n</g>\n</svg>\n"
          },
          "metadata": {},
          "execution_count": 46
        }
      ]
    },
    {
      "cell_type": "markdown",
      "metadata": {
        "id": "Qsq0H-mVwv88"
      },
      "source": [
        "## **Decision Tree Classifier with criterion entropy**"
      ]
    },
    {
      "cell_type": "code",
      "metadata": {
        "colab": {
          "base_uri": "https://localhost:8080/"
        },
        "id": "3-MbEUiExCc3",
        "outputId": "637d8e8d-a8cc-4921-b449-49d739a40744"
      },
      "source": [
        "# instantiate the DecisionTreeClassifier model with criterion entropy\n",
        "\n",
        "clf_en = DecisionTreeClassifier(criterion='entropy', max_depth=5, random_state=0)\n",
        "\n",
        "\n",
        "# fit the model\n",
        "clf_en.fit(X_train, y_train)"
      ],
      "execution_count": 48,
      "outputs": [
        {
          "output_type": "execute_result",
          "data": {
            "text/plain": [
              "DecisionTreeClassifier(ccp_alpha=0.0, class_weight=None, criterion='entropy',\n",
              "                       max_depth=5, max_features=None, max_leaf_nodes=None,\n",
              "                       min_impurity_decrease=0.0, min_impurity_split=None,\n",
              "                       min_samples_leaf=1, min_samples_split=2,\n",
              "                       min_weight_fraction_leaf=0.0, presort='deprecated',\n",
              "                       random_state=0, splitter='best')"
            ]
          },
          "metadata": {},
          "execution_count": 48
        }
      ]
    },
    {
      "cell_type": "markdown",
      "metadata": {
        "id": "l-XhRa9axGlh"
      },
      "source": [
        "Predict the Test set results with criterion entropy"
      ]
    },
    {
      "cell_type": "code",
      "metadata": {
        "id": "KAAv17pSxMLV"
      },
      "source": [
        "y_pred_en = clf_en.predict(X_test)"
      ],
      "execution_count": 49,
      "outputs": []
    },
    {
      "cell_type": "markdown",
      "metadata": {
        "id": "O1bT6iNxxPWz"
      },
      "source": [
        "Check accuracy score with criterion entropy"
      ]
    },
    {
      "cell_type": "code",
      "metadata": {
        "colab": {
          "base_uri": "https://localhost:8080/"
        },
        "id": "mtAN0yUHxeWG",
        "outputId": "ed31b3b9-a90c-4e72-c735-cffa684b2393"
      },
      "source": [
        "from sklearn.metrics import accuracy_score\n",
        "\n",
        "print('Model accuracy score with criterion entropy: {0:0.4f}'. format(accuracy_score(y_test, y_pred_en)))"
      ],
      "execution_count": 50,
      "outputs": [
        {
          "output_type": "stream",
          "name": "stdout",
          "text": [
            "Model accuracy score with criterion entropy: 0.8704\n"
          ]
        }
      ]
    },
    {
      "cell_type": "markdown",
      "metadata": {
        "id": "S4_SOiQtxhbX"
      },
      "source": [
        "### Compare the train-set and test-set accuracy\n",
        "\n",
        "Now, I will compare the train-set and test-set accuracy to check for overfitting."
      ]
    },
    {
      "cell_type": "code",
      "metadata": {
        "colab": {
          "base_uri": "https://localhost:8080/"
        },
        "id": "1zgDc6iqxmqW",
        "outputId": "da3f94b7-e95c-441c-ca6f-1bc5f15fc206"
      },
      "source": [
        "y_pred_train_en = clf_en.predict(X_train)\n",
        "\n",
        "y_pred_train_en"
      ],
      "execution_count": 51,
      "outputs": [
        {
          "output_type": "execute_result",
          "data": {
            "text/plain": [
              "array(['unacc', 'unacc', 'acc', ..., 'acc', 'unacc', 'acc'], dtype=object)"
            ]
          },
          "metadata": {},
          "execution_count": 51
        }
      ]
    },
    {
      "cell_type": "code",
      "metadata": {
        "colab": {
          "base_uri": "https://localhost:8080/"
        },
        "id": "VWBrWVzCxsCO",
        "outputId": "1086b2d0-5bc7-46d9-fa6a-d769d4dbb04b"
      },
      "source": [
        "print('Training-set accuracy score: {0:0.4f}'. format(accuracy_score(y_train, y_pred_train_en)))"
      ],
      "execution_count": 52,
      "outputs": [
        {
          "output_type": "stream",
          "name": "stdout",
          "text": [
            "Training-set accuracy score: 0.8634\n"
          ]
        }
      ]
    },
    {
      "cell_type": "markdown",
      "metadata": {
        "id": "8259VoOGxu0f"
      },
      "source": [
        "Check for overfitting and underfitting"
      ]
    },
    {
      "cell_type": "code",
      "metadata": {
        "colab": {
          "base_uri": "https://localhost:8080/"
        },
        "id": "_frRIVPfxvrS",
        "outputId": "cfaf3113-4e75-4b1e-8b95-d849f380fb9e"
      },
      "source": [
        "# print the scores on training and test set\n",
        "\n",
        "print('Training set score: {:.4f}'.format(clf_en.score(X_train, y_train)))\n",
        "\n",
        "print('Test set score: {:.4f}'.format(clf_en.score(X_test, y_test)))"
      ],
      "execution_count": 53,
      "outputs": [
        {
          "output_type": "stream",
          "name": "stdout",
          "text": [
            "Training set score: 0.8634\n",
            "Test set score: 0.8704\n"
          ]
        }
      ]
    },
    {
      "cell_type": "markdown",
      "metadata": {
        "id": "lj8-SEA7x2H2"
      },
      "source": [
        "We can see that the training-set score and test-set score is same as above. The training-set accuracy score is 0.8634 while the test-set accuracy to be 0.8704. These two values are quite comparable. So, there is no sign of overfitting."
      ]
    },
    {
      "cell_type": "markdown",
      "metadata": {
        "id": "_nZwT1zDx6w_"
      },
      "source": [
        "## **Visualize decision-trees**"
      ]
    },
    {
      "cell_type": "code",
      "metadata": {
        "colab": {
          "base_uri": "https://localhost:8080/",
          "height": 750
        },
        "id": "8jyuIixkyABS",
        "outputId": "f2e5ebfe-7db7-45be-d206-c0f4c2c13a2e"
      },
      "source": [
        "plt.figure(figsize=(12,8))\n",
        "\n",
        "from sklearn import tree\n",
        "\n",
        "tree.plot_tree(clf_en.fit(X_train, y_train))"
      ],
      "execution_count": 54,
      "outputs": [
        {
          "output_type": "execute_result",
          "data": {
            "text/plain": [
              "[Text(283.2923076923077, 398.64, 'X[5] <= 1.5\\nentropy = 1.2\\nsamples = 1157\\nvalue = [255, 49, 813, 40]'),\n",
              " Text(231.7846153846154, 326.15999999999997, 'entropy = 0.0\\nsamples = 386\\nvalue = [0, 0, 386, 0]'),\n",
              " Text(334.8, 326.15999999999997, 'X[3] <= 2.5\\nentropy = 1.474\\nsamples = 771\\nvalue = [255, 49, 427, 40]'),\n",
              " Text(283.2923076923077, 253.67999999999998, 'X[0] <= 2.5\\nentropy = 1.638\\nsamples = 525\\nvalue = [255, 49, 181, 40]'),\n",
              " Text(103.01538461538462, 181.2, 'X[1] <= 1.5\\nentropy = 0.995\\nsamples = 271\\nvalue = [124, 0, 147, 0]'),\n",
              " Text(51.50769230769231, 108.71999999999997, 'entropy = 0.0\\nsamples = 68\\nvalue = [0, 0, 68, 0]'),\n",
              " Text(154.52307692307693, 108.71999999999997, 'X[5] <= 2.5\\nentropy = 0.964\\nsamples = 203\\nvalue = [124, 0, 79, 0]'),\n",
              " Text(103.01538461538462, 36.23999999999995, 'entropy = 0.714\\nsamples = 102\\nvalue = [82, 0, 20, 0]'),\n",
              " Text(206.03076923076924, 36.23999999999995, 'entropy = 0.979\\nsamples = 101\\nvalue = [42, 0, 59, 0]'),\n",
              " Text(463.5692307692308, 181.2, 'X[1] <= 2.5\\nentropy = 1.759\\nsamples = 254\\nvalue = [131, 49, 34, 40]'),\n",
              " Text(360.55384615384617, 108.71999999999997, 'X[5] <= 2.5\\nentropy = 1.106\\nsamples = 129\\nvalue = [92, 0, 27, 10]'),\n",
              " Text(309.04615384615386, 36.23999999999995, 'entropy = 0.861\\nsamples = 67\\nvalue = [54, 0, 3, 10]'),\n",
              " Text(412.0615384615385, 36.23999999999995, 'entropy = 0.963\\nsamples = 62\\nvalue = [38, 0, 24, 0]'),\n",
              " Text(566.5846153846154, 108.71999999999997, 'X[5] <= 2.5\\nentropy = 1.781\\nsamples = 125\\nvalue = [39, 49, 7, 30]'),\n",
              " Text(515.0769230769231, 36.23999999999995, 'entropy = 1.51\\nsamples = 58\\nvalue = [3, 21, 4, 30]'),\n",
              " Text(618.0923076923077, 36.23999999999995, 'entropy = 1.208\\nsamples = 67\\nvalue = [36, 28, 3, 0]'),\n",
              " Text(386.3076923076923, 253.67999999999998, 'entropy = 0.0\\nsamples = 246\\nvalue = [0, 0, 246, 0]')]"
            ]
          },
          "metadata": {},
          "execution_count": 54
        },
        {
          "output_type": "display_data",
          "data": {
            "image/png": "[encoded data removed]",
            "text/plain": [
              "<Figure size 864x576 with 1 Axes>"
            ]
          },
          "metadata": {
            "needs_background": "light"
          }
        }
      ]
    },
    {
      "cell_type": "markdown",
      "metadata": {
        "id": "J9NChtIPyEm2"
      },
      "source": [
        "### **Visualize decision-trees with graphviz**"
      ]
    },
    {
      "cell_type": "code",
      "metadata": {
        "colab": {
          "base_uri": "https://localhost:8080/",
          "height": 816
        },
        "id": "yaIWJlWAyOj_",
        "outputId": "e157020d-a9fc-4155-8b47-e307648859a8"
      },
      "source": [
        "import graphviz \n",
        "dot_data = tree.export_graphviz(clf_en, out_file=None, \n",
        "                              feature_names=X_train.columns,  \n",
        "                              #class_names=y_train,  \n",
        "                              filled=True, rounded=True,  \n",
        "                              special_characters=True)\n",
        "\n",
        "graph = graphviz.Source(dot_data) \n",
        "graph.render(\"entropy.jpg\")\n",
        "\n",
        "graph "
      ],
      "execution_count": 55,
      "outputs": [
        {
          "output_type": "execute_result",
          "data": {
            "text/plain": [
              "<graphviz.files.Source at 0x7f21ed597410>"
            ],
            "image/svg+xml": "<?xml version=\"1.0\" encoding=\"UTF-8\" standalone=\"no\"?>\n<!DOCTYPE svg PUBLIC \"-//W3C//DTD SVG 1.1//EN\"\n \"http://www.w3.org/Graphics/SVG/1.1/DTD/svg11.dtd\">\n<!-- Generated by graphviz version 2.40.1 (20161225.0304)\n -->\n<!-- Title: Tree Pages: 1 -->\n<svg width=\"980pt\" height=\"581pt\"\n viewBox=\"0.00 0.00 980.00 581.00\" xmlns=\"http://www.w3.org/2000/svg\" xmlns:xlink=\"http://www.w3.org/1999/xlink\">\n<g id=\"graph0\" class=\"graph\" transform=\"scale(1 1) rotate(0) translate(4 577)\">\n<title>Tree</title>\n<polygon fill=\"#ffffff\" stroke=\"transparent\" points=\"-4,4 -4,-577 976,-577 976,4 -4,4\"/>\n<!-- 0 -->\n<g id=\"node1\" class=\"node\">\n<title>0</title>\n<path fill=\"#85c2ef\" stroke=\"#000000\" d=\"M409.5,-573C409.5,-573 253.5,-573 253.5,-573 247.5,-573 241.5,-567 241.5,-561 241.5,-561 241.5,-517 241.5,-517 241.5,-511 247.5,-505 253.5,-505 253.5,-505 409.5,-505 409.5,-505 415.5,-505 421.5,-511 421.5,-517 421.5,-517 421.5,-561 421.5,-561 421.5,-567 415.5,-573 409.5,-573\"/>\n<text text-anchor=\"start\" x=\"294\" y=\"-557.8\" font-family=\"Helvetica,sans-Serif\" font-size=\"14.00\" fill=\"#000000\">safety ≤ 1.5</text>\n<text text-anchor=\"start\" x=\"289\" y=\"-542.8\" font-family=\"Helvetica,sans-Serif\" font-size=\"14.00\" fill=\"#000000\">entropy = 1.2</text>\n<text text-anchor=\"start\" x=\"279.5\" y=\"-527.8\" font-family=\"Helvetica,sans-Serif\" font-size=\"14.00\" fill=\"#000000\">samples = 1157</text>\n<text text-anchor=\"start\" x=\"249.5\" y=\"-512.8\" font-family=\"Helvetica,sans-Serif\" font-size=\"14.00\" fill=\"#000000\">value = [255, 49, 813, 40]</text>\n</g>\n<!-- 1 -->\n<g id=\"node2\" class=\"node\">\n<title>1</title>\n<path fill=\"#399de5\" stroke=\"#000000\" d=\"M302,-461.5C302,-461.5 179,-461.5 179,-461.5 173,-461.5 167,-455.5 167,-449.5 167,-449.5 167,-420.5 167,-420.5 167,-414.5 173,-408.5 179,-408.5 179,-408.5 302,-408.5 302,-408.5 308,-408.5 314,-414.5 314,-420.5 314,-420.5 314,-449.5 314,-449.5 314,-455.5 308,-461.5 302,-461.5\"/>\n<text text-anchor=\"start\" x=\"198\" y=\"-446.3\" font-family=\"Helvetica,sans-Serif\" font-size=\"14.00\" fill=\"#000000\">entropy = 0.0</text>\n<text text-anchor=\"start\" x=\"192.5\" y=\"-431.3\" font-family=\"Helvetica,sans-Serif\" font-size=\"14.00\" fill=\"#000000\">samples = 386</text>\n<text text-anchor=\"start\" x=\"175\" y=\"-416.3\" font-family=\"Helvetica,sans-Serif\" font-size=\"14.00\" fill=\"#000000\">value = [0, 0, 386, 0]</text>\n</g>\n<!-- 0&#45;&gt;1 -->\n<g id=\"edge1\" class=\"edge\">\n<title>0&#45;&gt;1</title>\n<path fill=\"none\" stroke=\"#000000\" d=\"M301.7032,-504.9465C291.6796,-493.491 280.4972,-480.711 270.461,-469.2412\"/>\n<polygon fill=\"#000000\" stroke=\"#000000\" points=\"272.9435,-466.7632 263.7244,-461.5422 267.6754,-471.3727 272.9435,-466.7632\"/>\n<text text-anchor=\"middle\" x=\"262.0614\" y=\"-482.7868\" font-family=\"Helvetica,sans-Serif\" font-size=\"14.00\" fill=\"#000000\">True</text>\n</g>\n<!-- 2 -->\n<g id=\"node3\" class=\"node\">\n<title>2</title>\n<path fill=\"#bddef6\" stroke=\"#000000\" d=\"M500.5,-469C500.5,-469 344.5,-469 344.5,-469 338.5,-469 332.5,-463 332.5,-457 332.5,-457 332.5,-413 332.5,-413 332.5,-407 338.5,-401 344.5,-401 344.5,-401 500.5,-401 500.5,-401 506.5,-401 512.5,-407 512.5,-413 512.5,-413 512.5,-457 512.5,-457 512.5,-463 506.5,-469 500.5,-469\"/>\n<text text-anchor=\"start\" x=\"378.5\" y=\"-453.8\" font-family=\"Helvetica,sans-Serif\" font-size=\"14.00\" fill=\"#000000\">persons ≤ 2.5</text>\n<text text-anchor=\"start\" x=\"371.5\" y=\"-438.8\" font-family=\"Helvetica,sans-Serif\" font-size=\"14.00\" fill=\"#000000\">entropy = 1.474</text>\n<text text-anchor=\"start\" x=\"374.5\" y=\"-423.8\" font-family=\"Helvetica,sans-Serif\" font-size=\"14.00\" fill=\"#000000\">samples = 771</text>\n<text text-anchor=\"start\" x=\"340.5\" y=\"-408.8\" font-family=\"Helvetica,sans-Serif\" font-size=\"14.00\" fill=\"#000000\">value = [255, 49, 427, 40]</text>\n</g>\n<!-- 0&#45;&gt;2 -->\n<g id=\"edge2\" class=\"edge\">\n<title>0&#45;&gt;2</title>\n<path fill=\"none\" stroke=\"#000000\" d=\"M361.2968,-504.9465C369.153,-495.968 377.7212,-486.1758 385.8913,-476.8385\"/>\n<polygon fill=\"#000000\" stroke=\"#000000\" points=\"388.6852,-478.9606 392.6363,-469.13 383.4171,-474.351 388.6852,-478.9606\"/>\n<text text-anchor=\"middle\" x=\"394.2992\" y=\"-490.3746\" font-family=\"Helvetica,sans-Serif\" font-size=\"14.00\" fill=\"#000000\">False</text>\n</g>\n<!-- 3 -->\n<g id=\"node4\" class=\"node\">\n<title>3</title>\n<path fill=\"#f9e4d4\" stroke=\"#000000\" d=\"M409.5,-365C409.5,-365 253.5,-365 253.5,-365 247.5,-365 241.5,-359 241.5,-353 241.5,-353 241.5,-309 241.5,-309 241.5,-303 247.5,-297 253.5,-297 253.5,-297 409.5,-297 409.5,-297 415.5,-297 421.5,-303 421.5,-309 421.5,-309 421.5,-353 421.5,-353 421.5,-359 415.5,-365 409.5,-365\"/>\n<text text-anchor=\"start\" x=\"272.5\" y=\"-349.8\" font-family=\"Helvetica,sans-Serif\" font-size=\"14.00\" fill=\"#000000\">buying value ≤ 2.5</text>\n<text text-anchor=\"start\" x=\"280.5\" y=\"-334.8\" font-family=\"Helvetica,sans-Serif\" font-size=\"14.00\" fill=\"#000000\">entropy = 1.638</text>\n<text text-anchor=\"start\" x=\"283.5\" y=\"-319.8\" font-family=\"Helvetica,sans-Serif\" font-size=\"14.00\" fill=\"#000000\">samples = 525</text>\n<text text-anchor=\"start\" x=\"249.5\" y=\"-304.8\" font-family=\"Helvetica,sans-Serif\" font-size=\"14.00\" fill=\"#000000\">value = [255, 49, 181, 40]</text>\n</g>\n<!-- 2&#45;&gt;3 -->\n<g id=\"edge3\" class=\"edge\">\n<title>2&#45;&gt;3</title>\n<path fill=\"none\" stroke=\"#000000\" d=\"M392.7032,-400.9465C384.847,-391.968 376.2788,-382.1758 368.1087,-372.8385\"/>\n<polygon fill=\"#000000\" stroke=\"#000000\" points=\"370.5829,-370.351 361.3637,-365.13 365.3148,-374.9606 370.5829,-370.351\"/>\n</g>\n<!-- 16 -->\n<g id=\"node17\" class=\"node\">\n<title>16</title>\n<path fill=\"#399de5\" stroke=\"#000000\" d=\"M575,-357.5C575,-357.5 452,-357.5 452,-357.5 446,-357.5 440,-351.5 440,-345.5 440,-345.5 440,-316.5 440,-316.5 440,-310.5 446,-304.5 452,-304.5 452,-304.5 575,-304.5 575,-304.5 581,-304.5 587,-310.5 587,-316.5 587,-316.5 587,-345.5 587,-345.5 587,-351.5 581,-357.5 575,-357.5\"/>\n<text text-anchor=\"start\" x=\"471\" y=\"-342.3\" font-family=\"Helvetica,sans-Serif\" font-size=\"14.00\" fill=\"#000000\">entropy = 0.0</text>\n<text text-anchor=\"start\" x=\"465.5\" y=\"-327.3\" font-family=\"Helvetica,sans-Serif\" font-size=\"14.00\" fill=\"#000000\">samples = 246</text>\n<text text-anchor=\"start\" x=\"448\" y=\"-312.3\" font-family=\"Helvetica,sans-Serif\" font-size=\"14.00\" fill=\"#000000\">value = [0, 0, 246, 0]</text>\n</g>\n<!-- 2&#45;&gt;16 -->\n<g id=\"edge16\" class=\"edge\">\n<title>2&#45;&gt;16</title>\n<path fill=\"none\" stroke=\"#000000\" d=\"M452.2968,-400.9465C462.3204,-389.491 473.5028,-376.711 483.539,-365.2412\"/>\n<polygon fill=\"#000000\" stroke=\"#000000\" points=\"486.3246,-367.3727 490.2756,-357.5422 481.0565,-362.7632 486.3246,-367.3727\"/>\n</g>\n<!-- 4 -->\n<g id=\"node5\" class=\"node\">\n<title>4</title>\n<path fill=\"#e0f0fb\" stroke=\"#000000\" d=\"M308.5,-261C308.5,-261 168.5,-261 168.5,-261 162.5,-261 156.5,-255 156.5,-249 156.5,-249 156.5,-205 156.5,-205 156.5,-199 162.5,-193 168.5,-193 168.5,-193 308.5,-193 308.5,-193 314.5,-193 320.5,-199 320.5,-205 320.5,-205 320.5,-249 320.5,-249 320.5,-255 314.5,-261 308.5,-261\"/>\n<text text-anchor=\"start\" x=\"177\" y=\"-245.8\" font-family=\"Helvetica,sans-Serif\" font-size=\"14.00\" fill=\"#000000\">Maintainance ≤ 1.5</text>\n<text text-anchor=\"start\" x=\"187.5\" y=\"-230.8\" font-family=\"Helvetica,sans-Serif\" font-size=\"14.00\" fill=\"#000000\">entropy = 0.995</text>\n<text text-anchor=\"start\" x=\"190.5\" y=\"-215.8\" font-family=\"Helvetica,sans-Serif\" font-size=\"14.00\" fill=\"#000000\">samples = 271</text>\n<text text-anchor=\"start\" x=\"164.5\" y=\"-200.8\" font-family=\"Helvetica,sans-Serif\" font-size=\"14.00\" fill=\"#000000\">value = [124, 0, 147, 0]</text>\n</g>\n<!-- 3&#45;&gt;4 -->\n<g id=\"edge4\" class=\"edge\">\n<title>3&#45;&gt;4</title>\n<path fill=\"none\" stroke=\"#000000\" d=\"M301.0483,-296.9465C293.0194,-287.968 284.263,-278.1758 275.9133,-268.8385\"/>\n<polygon fill=\"#000000\" stroke=\"#000000\" points=\"278.295,-266.2512 269.0201,-261.13 273.077,-270.9174 278.295,-266.2512\"/>\n</g>\n<!-- 9 -->\n<g id=\"node10\" class=\"node\">\n<title>9</title>\n<path fill=\"#f5cdb0\" stroke=\"#000000\" d=\"M566.5,-261C566.5,-261 418.5,-261 418.5,-261 412.5,-261 406.5,-255 406.5,-249 406.5,-249 406.5,-205 406.5,-205 406.5,-199 412.5,-193 418.5,-193 418.5,-193 566.5,-193 566.5,-193 572.5,-193 578.5,-199 578.5,-205 578.5,-205 578.5,-249 578.5,-249 578.5,-255 572.5,-261 566.5,-261\"/>\n<text text-anchor=\"start\" x=\"431\" y=\"-245.8\" font-family=\"Helvetica,sans-Serif\" font-size=\"14.00\" fill=\"#000000\">Maintainance ≤ 2.5</text>\n<text text-anchor=\"start\" x=\"441.5\" y=\"-230.8\" font-family=\"Helvetica,sans-Serif\" font-size=\"14.00\" fill=\"#000000\">entropy = 1.759</text>\n<text text-anchor=\"start\" x=\"444.5\" y=\"-215.8\" font-family=\"Helvetica,sans-Serif\" font-size=\"14.00\" fill=\"#000000\">samples = 254</text>\n<text text-anchor=\"start\" x=\"414.5\" y=\"-200.8\" font-family=\"Helvetica,sans-Serif\" font-size=\"14.00\" fill=\"#000000\">value = [131, 49, 34, 40]</text>\n</g>\n<!-- 3&#45;&gt;9 -->\n<g id=\"edge9\" class=\"edge\">\n<title>3&#45;&gt;9</title>\n<path fill=\"none\" stroke=\"#000000\" d=\"M384.2174,-296.9465C399.2288,-287.2497 415.7094,-276.6039 431.1854,-266.6069\"/>\n<polygon fill=\"#000000\" stroke=\"#000000\" points=\"433.1633,-269.496 439.6641,-261.13 429.3651,-263.6161 433.1633,-269.496\"/>\n</g>\n<!-- 5 -->\n<g id=\"node6\" class=\"node\">\n<title>5</title>\n<path fill=\"#399de5\" stroke=\"#000000\" d=\"M131,-149.5C131,-149.5 16,-149.5 16,-149.5 10,-149.5 4,-143.5 4,-137.5 4,-137.5 4,-108.5 4,-108.5 4,-102.5 10,-96.5 16,-96.5 16,-96.5 131,-96.5 131,-96.5 137,-96.5 143,-102.5 143,-108.5 143,-108.5 143,-137.5 143,-137.5 143,-143.5 137,-149.5 131,-149.5\"/>\n<text text-anchor=\"start\" x=\"31\" y=\"-134.3\" font-family=\"Helvetica,sans-Serif\" font-size=\"14.00\" fill=\"#000000\">entropy = 0.0</text>\n<text text-anchor=\"start\" x=\"29.5\" y=\"-119.3\" font-family=\"Helvetica,sans-Serif\" font-size=\"14.00\" fill=\"#000000\">samples = 68</text>\n<text text-anchor=\"start\" x=\"12\" y=\"-104.3\" font-family=\"Helvetica,sans-Serif\" font-size=\"14.00\" fill=\"#000000\">value = [0, 0, 68, 0]</text>\n</g>\n<!-- 4&#45;&gt;5 -->\n<g id=\"edge5\" class=\"edge\">\n<title>4&#45;&gt;5</title>\n<path fill=\"none\" stroke=\"#000000\" d=\"M184.4728,-192.9465C165.0749,-180.72 143.2834,-166.9847 124.18,-154.9437\"/>\n<polygon fill=\"#000000\" stroke=\"#000000\" points=\"125.9362,-151.9135 115.6102,-149.5422 122.2036,-157.8353 125.9362,-151.9135\"/>\n</g>\n<!-- 6 -->\n<g id=\"node7\" class=\"node\">\n<title>6</title>\n<path fill=\"#f6d1b7\" stroke=\"#000000\" d=\"M304,-157C304,-157 173,-157 173,-157 167,-157 161,-151 161,-145 161,-145 161,-101 161,-101 161,-95 167,-89 173,-89 173,-89 304,-89 304,-89 310,-89 316,-95 316,-101 316,-101 316,-145 316,-145 316,-151 310,-157 304,-157\"/>\n<text text-anchor=\"start\" x=\"201\" y=\"-141.8\" font-family=\"Helvetica,sans-Serif\" font-size=\"14.00\" fill=\"#000000\">safety ≤ 2.5</text>\n<text text-anchor=\"start\" x=\"187.5\" y=\"-126.8\" font-family=\"Helvetica,sans-Serif\" font-size=\"14.00\" fill=\"#000000\">entropy = 0.964</text>\n<text text-anchor=\"start\" x=\"190.5\" y=\"-111.8\" font-family=\"Helvetica,sans-Serif\" font-size=\"14.00\" fill=\"#000000\">samples = 203</text>\n<text text-anchor=\"start\" x=\"169\" y=\"-96.8\" font-family=\"Helvetica,sans-Serif\" font-size=\"14.00\" fill=\"#000000\">value = [124, 0, 79, 0]</text>\n</g>\n<!-- 4&#45;&gt;6 -->\n<g id=\"edge6\" class=\"edge\">\n<title>4&#45;&gt;6</title>\n<path fill=\"none\" stroke=\"#000000\" d=\"M238.5,-192.9465C238.5,-184.776 238.5,-175.9318 238.5,-167.3697\"/>\n<polygon fill=\"#000000\" stroke=\"#000000\" points=\"242.0001,-167.13 238.5,-157.13 235.0001,-167.13 242.0001,-167.13\"/>\n</g>\n<!-- 7 -->\n<g id=\"node8\" class=\"node\">\n<title>7</title>\n<path fill=\"#eba069\" stroke=\"#000000\" d=\"M135,-53C135,-53 12,-53 12,-53 6,-53 0,-47 0,-41 0,-41 0,-12 0,-12 0,-6 6,0 12,0 12,0 135,0 135,0 141,0 147,-6 147,-12 147,-12 147,-41 147,-41 147,-47 141,-53 135,-53\"/>\n<text text-anchor=\"start\" x=\"22.5\" y=\"-37.8\" font-family=\"Helvetica,sans-Serif\" font-size=\"14.00\" fill=\"#000000\">entropy = 0.714</text>\n<text text-anchor=\"start\" x=\"25.5\" y=\"-22.8\" font-family=\"Helvetica,sans-Serif\" font-size=\"14.00\" fill=\"#000000\">samples = 102</text>\n<text text-anchor=\"start\" x=\"8\" y=\"-7.8\" font-family=\"Helvetica,sans-Serif\" font-size=\"14.00\" fill=\"#000000\">value = [82, 0, 20, 0]</text>\n</g>\n<!-- 6&#45;&gt;7 -->\n<g id=\"edge7\" class=\"edge\">\n<title>6&#45;&gt;7</title>\n<path fill=\"none\" stroke=\"#000000\" d=\"M180.3272,-88.9777C163.182,-78.9504 144.4975,-68.0228 127.618,-58.1508\"/>\n<polygon fill=\"#000000\" stroke=\"#000000\" points=\"129.3724,-55.1223 118.9734,-53.095 125.8385,-61.1648 129.3724,-55.1223\"/>\n</g>\n<!-- 8 -->\n<g id=\"node9\" class=\"node\">\n<title>8</title>\n<path fill=\"#c6e3f8\" stroke=\"#000000\" d=\"M300,-53C300,-53 177,-53 177,-53 171,-53 165,-47 165,-41 165,-41 165,-12 165,-12 165,-6 171,0 177,0 177,0 300,0 300,0 306,0 312,-6 312,-12 312,-12 312,-41 312,-41 312,-47 306,-53 300,-53\"/>\n<text text-anchor=\"start\" x=\"187.5\" y=\"-37.8\" font-family=\"Helvetica,sans-Serif\" font-size=\"14.00\" fill=\"#000000\">entropy = 0.979</text>\n<text text-anchor=\"start\" x=\"190.5\" y=\"-22.8\" font-family=\"Helvetica,sans-Serif\" font-size=\"14.00\" fill=\"#000000\">samples = 101</text>\n<text text-anchor=\"start\" x=\"173\" y=\"-7.8\" font-family=\"Helvetica,sans-Serif\" font-size=\"14.00\" fill=\"#000000\">value = [42, 0, 59, 0]</text>\n</g>\n<!-- 6&#45;&gt;8 -->\n<g id=\"edge8\" class=\"edge\">\n<title>6&#45;&gt;8</title>\n<path fill=\"none\" stroke=\"#000000\" d=\"M238.5,-88.9777C238.5,-80.7364 238.5,-71.887 238.5,-63.5153\"/>\n<polygon fill=\"#000000\" stroke=\"#000000\" points=\"242.0001,-63.2484 238.5,-53.2485 235.0001,-63.2485 242.0001,-63.2484\"/>\n</g>\n<!-- 10 -->\n<g id=\"node11\" class=\"node\">\n<title>10</title>\n<path fill=\"#eeaf81\" stroke=\"#000000\" d=\"M558,-157C558,-157 427,-157 427,-157 421,-157 415,-151 415,-145 415,-145 415,-101 415,-101 415,-95 421,-89 427,-89 427,-89 558,-89 558,-89 564,-89 570,-95 570,-101 570,-101 570,-145 570,-145 570,-151 564,-157 558,-157\"/>\n<text text-anchor=\"start\" x=\"455\" y=\"-141.8\" font-family=\"Helvetica,sans-Serif\" font-size=\"14.00\" fill=\"#000000\">safety ≤ 2.5</text>\n<text text-anchor=\"start\" x=\"441.5\" y=\"-126.8\" font-family=\"Helvetica,sans-Serif\" font-size=\"14.00\" fill=\"#000000\">entropy = 1.106</text>\n<text text-anchor=\"start\" x=\"444.5\" y=\"-111.8\" font-family=\"Helvetica,sans-Serif\" font-size=\"14.00\" fill=\"#000000\">samples = 129</text>\n<text text-anchor=\"start\" x=\"423\" y=\"-96.8\" font-family=\"Helvetica,sans-Serif\" font-size=\"14.00\" fill=\"#000000\">value = [92, 0, 27, 10]</text>\n</g>\n<!-- 9&#45;&gt;10 -->\n<g id=\"edge10\" class=\"edge\">\n<title>9&#45;&gt;10</title>\n<path fill=\"none\" stroke=\"#000000\" d=\"M492.5,-192.9465C492.5,-184.776 492.5,-175.9318 492.5,-167.3697\"/>\n<polygon fill=\"#000000\" stroke=\"#000000\" points=\"496.0001,-167.13 492.5,-157.13 489.0001,-167.13 496.0001,-167.13\"/>\n</g>\n<!-- 13 -->\n<g id=\"node14\" class=\"node\">\n<title>13</title>\n<path fill=\"#eafce8\" stroke=\"#000000\" d=\"M799,-157C799,-157 668,-157 668,-157 662,-157 656,-151 656,-145 656,-145 656,-101 656,-101 656,-95 662,-89 668,-89 668,-89 799,-89 799,-89 805,-89 811,-95 811,-101 811,-101 811,-145 811,-145 811,-151 805,-157 799,-157\"/>\n<text text-anchor=\"start\" x=\"696\" y=\"-141.8\" font-family=\"Helvetica,sans-Serif\" font-size=\"14.00\" fill=\"#000000\">safety ≤ 2.5</text>\n<text text-anchor=\"start\" x=\"682.5\" y=\"-126.8\" font-family=\"Helvetica,sans-Serif\" font-size=\"14.00\" fill=\"#000000\">entropy = 1.781</text>\n<text text-anchor=\"start\" x=\"685.5\" y=\"-111.8\" font-family=\"Helvetica,sans-Serif\" font-size=\"14.00\" fill=\"#000000\">samples = 125</text>\n<text text-anchor=\"start\" x=\"664\" y=\"-96.8\" font-family=\"Helvetica,sans-Serif\" font-size=\"14.00\" fill=\"#000000\">value = [39, 49, 7, 30]</text>\n</g>\n<!-- 9&#45;&gt;13 -->\n<g id=\"edge13\" class=\"edge\">\n<title>9&#45;&gt;13</title>\n<path fill=\"none\" stroke=\"#000000\" d=\"M571.4124,-192.9465C595.3924,-182.5983 621.877,-171.1693 646.3657,-160.6015\"/>\n<polygon fill=\"#000000\" stroke=\"#000000\" points=\"647.8494,-163.7733 655.6442,-156.5975 645.0758,-157.3462 647.8494,-163.7733\"/>\n</g>\n<!-- 11 -->\n<g id=\"node12\" class=\"node\">\n<title>11</title>\n<path fill=\"#eb9e66\" stroke=\"#000000\" d=\"M465,-53C465,-53 342,-53 342,-53 336,-53 330,-47 330,-41 330,-41 330,-12 330,-12 330,-6 336,0 342,0 342,0 465,0 465,0 471,0 477,-6 477,-12 477,-12 477,-41 477,-41 477,-47 471,-53 465,-53\"/>\n<text text-anchor=\"start\" x=\"352.5\" y=\"-37.8\" font-family=\"Helvetica,sans-Serif\" font-size=\"14.00\" fill=\"#000000\">entropy = 0.861</text>\n<text text-anchor=\"start\" x=\"359.5\" y=\"-22.8\" font-family=\"Helvetica,sans-Serif\" font-size=\"14.00\" fill=\"#000000\">samples = 67</text>\n<text text-anchor=\"start\" x=\"338\" y=\"-7.8\" font-family=\"Helvetica,sans-Serif\" font-size=\"14.00\" fill=\"#000000\">value = [54, 0, 3, 10]</text>\n</g>\n<!-- 10&#45;&gt;11 -->\n<g id=\"edge11\" class=\"edge\">\n<title>10&#45;&gt;11</title>\n<path fill=\"none\" stroke=\"#000000\" d=\"M461.1219,-88.9777C452.6766,-79.8207 443.5389,-69.9129 435.0825,-60.744\"/>\n<polygon fill=\"#000000\" stroke=\"#000000\" points=\"437.5221,-58.2266 428.1696,-53.2485 432.3764,-62.9723 437.5221,-58.2266\"/>\n</g>\n<!-- 12 -->\n<g id=\"node13\" class=\"node\">\n<title>12</title>\n<path fill=\"#f5d1b6\" stroke=\"#000000\" d=\"M630,-53C630,-53 507,-53 507,-53 501,-53 495,-47 495,-41 495,-41 495,-12 495,-12 495,-6 501,0 507,0 507,0 630,0 630,0 636,0 642,-6 642,-12 642,-12 642,-41 642,-41 642,-47 636,-53 630,-53\"/>\n<text text-anchor=\"start\" x=\"517.5\" y=\"-37.8\" font-family=\"Helvetica,sans-Serif\" font-size=\"14.00\" fill=\"#000000\">entropy = 0.963</text>\n<text text-anchor=\"start\" x=\"524.5\" y=\"-22.8\" font-family=\"Helvetica,sans-Serif\" font-size=\"14.00\" fill=\"#000000\">samples = 62</text>\n<text text-anchor=\"start\" x=\"503\" y=\"-7.8\" font-family=\"Helvetica,sans-Serif\" font-size=\"14.00\" fill=\"#000000\">value = [38, 0, 24, 0]</text>\n</g>\n<!-- 10&#45;&gt;12 -->\n<g id=\"edge12\" class=\"edge\">\n<title>10&#45;&gt;12</title>\n<path fill=\"none\" stroke=\"#000000\" d=\"M519.2948,-88.9777C526.3622,-80.0039 533.9976,-70.3089 541.0967,-61.295\"/>\n<polygon fill=\"#000000\" stroke=\"#000000\" points=\"543.9963,-63.2701 547.4338,-53.2485 538.497,-58.9391 543.9963,-63.2701\"/>\n</g>\n<!-- 14 -->\n<g id=\"node15\" class=\"node\">\n<title>14</title>\n<path fill=\"#f5cff9\" stroke=\"#000000\" d=\"M795,-53C795,-53 672,-53 672,-53 666,-53 660,-47 660,-41 660,-41 660,-12 660,-12 660,-6 666,0 672,0 672,0 795,0 795,0 801,0 807,-6 807,-12 807,-12 807,-41 807,-41 807,-47 801,-53 795,-53\"/>\n<text text-anchor=\"start\" x=\"686.5\" y=\"-37.8\" font-family=\"Helvetica,sans-Serif\" font-size=\"14.00\" fill=\"#000000\">entropy = 1.51</text>\n<text text-anchor=\"start\" x=\"689.5\" y=\"-22.8\" font-family=\"Helvetica,sans-Serif\" font-size=\"14.00\" fill=\"#000000\">samples = 58</text>\n<text text-anchor=\"start\" x=\"668\" y=\"-7.8\" font-family=\"Helvetica,sans-Serif\" font-size=\"14.00\" fill=\"#000000\">value = [3, 21, 4, 30]</text>\n</g>\n<!-- 13&#45;&gt;14 -->\n<g id=\"edge14\" class=\"edge\">\n<title>13&#45;&gt;14</title>\n<path fill=\"none\" stroke=\"#000000\" d=\"M733.5,-88.9777C733.5,-80.7364 733.5,-71.887 733.5,-63.5153\"/>\n<polygon fill=\"#000000\" stroke=\"#000000\" points=\"737.0001,-63.2484 733.5,-53.2485 730.0001,-63.2485 737.0001,-63.2484\"/>\n</g>\n<!-- 15 -->\n<g id=\"node16\" class=\"node\">\n<title>15</title>\n<path fill=\"#fae5d6\" stroke=\"#000000\" d=\"M960,-53C960,-53 837,-53 837,-53 831,-53 825,-47 825,-41 825,-41 825,-12 825,-12 825,-6 831,0 837,0 837,0 960,0 960,0 966,0 972,-6 972,-12 972,-12 972,-41 972,-41 972,-47 966,-53 960,-53\"/>\n<text text-anchor=\"start\" x=\"847.5\" y=\"-37.8\" font-family=\"Helvetica,sans-Serif\" font-size=\"14.00\" fill=\"#000000\">entropy = 1.208</text>\n<text text-anchor=\"start\" x=\"854.5\" y=\"-22.8\" font-family=\"Helvetica,sans-Serif\" font-size=\"14.00\" fill=\"#000000\">samples = 67</text>\n<text text-anchor=\"start\" x=\"833\" y=\"-7.8\" font-family=\"Helvetica,sans-Serif\" font-size=\"14.00\" fill=\"#000000\">value = [36, 28, 3, 0]</text>\n</g>\n<!-- 13&#45;&gt;15 -->\n<g id=\"edge15\" class=\"edge\">\n<title>13&#45;&gt;15</title>\n<path fill=\"none\" stroke=\"#000000\" d=\"M791.6728,-88.9777C808.818,-78.9504 827.5025,-68.0228 844.382,-58.1508\"/>\n<polygon fill=\"#000000\" stroke=\"#000000\" points=\"846.1615,-61.1648 853.0266,-53.095 842.6276,-55.1223 846.1615,-61.1648\"/>\n</g>\n</g>\n</svg>\n"
          },
          "metadata": {},
          "execution_count": 55
        }
      ]
    },
    {
      "cell_type": "markdown",
      "metadata": {
        "id": "A39l4KD7yUj3"
      },
      "source": [
        "Now, based on the above analysis we can conclude that our classification model accuracy is very good. Our model is doing a very good job in terms of predicting the class labels.\n",
        "\n",
        "But, it does not give the underlying distribution of values. Also, it does not tell anything about the type of errors our classifer is making.\n",
        "\n",
        "We have another tool called Confusion matrix that comes to our rescue."
      ]
    },
    {
      "cell_type": "markdown",
      "metadata": {
        "id": "M4BtuMM4yYSP"
      },
      "source": [
        "# **Confusion** **Matrix**\n",
        "A confusion matrix is a tool for summarizing the performance of a classification algorithm. A confusion matrix will give us a clear picture of classification model performance and the types of errors produced by the model. It gives us a summary of correct and incorrect predictions broken down by each category. The summary is represented in a tabular form.\n",
        "\n",
        "Four types of outcomes are possible while evaluating a classification model performance. These four outcomes are described below:-\n",
        "\n",
        "**True Positives (TP)** – True Positives occur when we predict an observation belongs to a certain class and the observation actually belongs to that class.\n",
        "\n",
        "**True Negatives (TN)** – True Negatives occur when we predict an observation does not belong to a certain class and the observation actually does not belong to that class.\n",
        "\n",
        "**False Positives (FP)** – False Positives occur when we predict an observation belongs to a certain class but the observation actually does not belong to that class. This type of error is called Type I error.\n",
        "\n",
        "**False Negatives (FN)** – False Negatives occur when we predict an observation does not belong to a certain class but the observation actually belongs to that class. This is a very serious error and it is called Type II error.\n",
        "\n",
        "These four outcomes are summarized in a confusion matrix given below."
      ]
    },
    {
      "cell_type": "code",
      "metadata": {
        "colab": {
          "base_uri": "https://localhost:8080/"
        },
        "id": "N6ycbZFdzrnU",
        "outputId": "c90677d7-7643-44d1-b817-97407a940438"
      },
      "source": [
        "# Print the Confusion Matrix and slice it into four pieces\n",
        "\n",
        "from sklearn.metrics import confusion_matrix\n",
        "\n",
        "cm = confusion_matrix(y_test, y_pred_en)\n",
        "\n",
        "print('Confusion matrix\\n\\n', cm)"
      ],
      "execution_count": 56,
      "outputs": [
        {
          "output_type": "stream",
          "name": "stdout",
          "text": [
            "Confusion matrix\n",
            "\n",
            " [[ 99   0  23   7]\n",
            " [ 11   0   0   9]\n",
            " [ 21   0 376   0]\n",
            " [  3   0   0  22]]\n"
          ]
        }
      ]
    },
    {
      "cell_type": "markdown",
      "metadata": {
        "id": "nMMH790_zu58"
      },
      "source": [
        "## **Classification Report**"
      ]
    },
    {
      "cell_type": "markdown",
      "metadata": {
        "id": "sLmac2BRzu2q"
      },
      "source": [
        "Classification report is another way to evaluate the classification model performance. It displays the precision, recall, f1 and support scores for the model. I have described these terms in later.\n",
        "\n",
        "We can print a classification report as follows:-"
      ]
    },
    {
      "cell_type": "code",
      "metadata": {
        "colab": {
          "base_uri": "https://localhost:8080/"
        },
        "id": "4tZi7o_4z6iC",
        "outputId": "c4d27b74-90d2-4243-cf6f-2476b78c451c"
      },
      "source": [
        "from sklearn.metrics import classification_report\n",
        "\n",
        "print(classification_report(y_test, y_pred_en))"
      ],
      "execution_count": 57,
      "outputs": [
        {
          "output_type": "stream",
          "name": "stdout",
          "text": [
            "              precision    recall  f1-score   support\n",
            "\n",
            "         acc       0.74      0.77      0.75       129\n",
            "        good       0.00      0.00      0.00        20\n",
            "       unacc       0.94      0.95      0.94       397\n",
            "       vgood       0.58      0.88      0.70        25\n",
            "\n",
            "    accuracy                           0.87       571\n",
            "   macro avg       0.57      0.65      0.60       571\n",
            "weighted avg       0.85      0.87      0.86       571\n",
            "\n"
          ]
        },
        {
          "output_type": "stream",
          "name": "stderr",
          "text": [
            "/usr/local/lib/python3.7/dist-packages/sklearn/metrics/_classification.py:1272: UndefinedMetricWarning: Precision and F-score are ill-defined and being set to 0.0 in labels with no predicted samples. Use `zero_division` parameter to control this behavior.\n",
            "  _warn_prf(average, modifier, msg_start, len(result))\n"
          ]
        }
      ]
    },
    {
      "cell_type": "markdown",
      "metadata": {
        "id": "Tvj1bfgyz_aL"
      },
      "source": [
        "# **Results and conclusion**"
      ]
    },
    {
      "cell_type": "markdown",
      "metadata": {
        "id": "efikx6ry0OQg"
      },
      "source": [
        "1. In this project, I build a Decision-Tree Classifier model to predict the safety of the car. I build two models, one with criterion gini index and another one with criterion entropy. The model yields a very good performance as indicated by the model accuracy in both the cases which was found to be 0.87.\n",
        "2. In the model with criterion gini index, the training-set accuracy score is 0.8686 while the test-set accuracy to be 0.8774. These two values are quite comparable. So, there is no sign of overfitting.\n",
        "3. Similarly, in the model with criterion entropy, the training-set accuracy score is 0.8634 while the test-set accuracy to be 0.8704.We get the same values as in the case with criterion gini. So, there is no sign of overfitting.\n",
        "4. In both the cases, the training-set and test-set accuracy score is the same.It may happen because of small dataset.\n",
        "5. The confusion matrix and classification report yields very good model performance."
      ]
    },
    {
      "cell_type": "markdown",
      "metadata": {
        "id": "KlRKpcxJKPVC"
      },
      "source": [
        "# **References**\n",
        "\n",
        "1. The work done in this project is inspired from following books and websites:-\n",
        "\n",
        "2. Hands on Machine Learning with Scikit-Learn and Tensorflow by Aurélién Géron\n",
        "\n",
        "3. Introduction to Machine Learning with Python by Andreas C. Müller and Sarah Guido\n",
        "\n",
        "4. https://en.wikipedia.org/wiki/Decision_tree\n",
        "\n",
        "5. https://en.wikipedia.org/wiki/Information_gain_in_decision_trees\n",
        "\n",
        "6. https://en.wikipedia.org/wiki/Entropy_(information_theory)\n",
        "\n",
        "7. https://www.datacamp.com/community/tutorials/decision-tree-classification-python\n",
        "\n",
        "8. https://stackabuse.com/decision-trees-in-python-with-scikit-learn/\n",
        "\n",
        "9. https://acadgild.com/blog/decision-tree-python-code"
      ]
    }
  ]
}